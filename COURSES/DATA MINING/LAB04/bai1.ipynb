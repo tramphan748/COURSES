{
 "cells": [
  {
   "cell_type": "code",
   "execution_count": 1,
   "metadata": {},
   "outputs": [],
   "source": [
    "import numpy as np\n",
    "import pandas as pd\n",
    "from mlxtend.frequent_patterns import apriori, association_rules\n",
    "from mlxtend.preprocessing import TransactionEncoder"
   ]
  },
  {
   "cell_type": "code",
   "execution_count": 2,
   "metadata": {},
   "outputs": [
    {
     "name": "stdout",
     "output_type": "stream",
     "text": [
      "       0      1      2       3     4      5\n",
      "0   Wine  Chips  Bread  Butter  Milk  Apple\n",
      "1   Wine    NaN  Bread  Butter  Milk    NaN\n",
      "2    NaN    NaN  Bread  Butter  Milk    NaN\n",
      "3    NaN  Chips    NaN     NaN   NaN  Apple\n",
      "4   Wine  Chips  Bread  Butter  Milk  Apple\n",
      "5   Wine  Chips    NaN     NaN  Milk    NaN\n",
      "6   Wine  Chips  Bread  Butter   NaN  Apple\n",
      "7   Wine  Chips    NaN     NaN  Milk    NaN\n",
      "8   Wine    NaN  Bread     NaN   NaN  Apple\n",
      "9   Wine    NaN  Bread  Butter  Milk    NaN\n",
      "10   NaN  Chips  Bread  Butter   NaN  Apple\n",
      "11  Wine    NaN    NaN  Butter  Milk  Apple\n",
      "12  Wine  Chips  Bread  Butter  Milk    NaN\n",
      "13  Wine    NaN  Bread     NaN  Milk  Apple\n",
      "14  Wine    NaN  Bread  Butter  Milk  Apple\n",
      "15  Wine  Chips  Bread  Butter  Milk  Apple\n",
      "16   NaN  Chips  Bread  Butter  Milk  Apple\n",
      "17   NaN  Chips    NaN  Butter  Milk  Apple\n",
      "18  Wine  Chips  Bread  Butter  Milk  Apple\n",
      "19  Wine    NaN  Bread  Butter  Milk  Apple\n",
      "20  Wine  Chips  Bread     NaN  Milk  Apple\n",
      "21   NaN  Chips    NaN     NaN   NaN    NaN\n"
     ]
    }
   ],
   "source": [
    "# load dữ liệu\n",
    "df = pd.read_csv('data.csv', header=None)\n",
    "print(df)"
   ]
  },
  {
   "cell_type": "code",
   "execution_count": 3,
   "metadata": {},
   "outputs": [
    {
     "name": "stdout",
     "output_type": "stream",
     "text": [
      "[['Wine', 'Chips', 'Bread', 'Butter', 'Milk', 'Apple'], ['Wine', 'nan', 'Bread', 'Butter', 'Milk', 'nan'], ['nan', 'nan', 'Bread', 'Butter', 'Milk', 'nan'], ['nan', 'Chips', 'nan', 'nan', 'nan', 'Apple'], ['Wine', 'Chips', 'Bread', 'Butter', 'Milk', 'Apple'], ['Wine', 'Chips', 'nan', 'nan', 'Milk', 'nan'], ['Wine', 'Chips', 'Bread', 'Butter', 'nan', 'Apple'], ['Wine', 'Chips', 'nan', 'nan', 'Milk', 'nan'], ['Wine', 'nan', 'Bread', 'nan', 'nan', 'Apple'], ['Wine', 'nan', 'Bread', 'Butter', 'Milk', 'nan'], ['nan', 'Chips', 'Bread', 'Butter', 'nan', 'Apple'], ['Wine', 'nan', 'nan', 'Butter', 'Milk', 'Apple'], ['Wine', 'Chips', 'Bread', 'Butter', 'Milk', 'nan'], ['Wine', 'nan', 'Bread', 'nan', 'Milk', 'Apple'], ['Wine', 'nan', 'Bread', 'Butter', 'Milk', 'Apple'], ['Wine', 'Chips', 'Bread', 'Butter', 'Milk', 'Apple'], ['nan', 'Chips', 'Bread', 'Butter', 'Milk', 'Apple'], ['nan', 'Chips', 'nan', 'Butter', 'Milk', 'Apple'], ['Wine', 'Chips', 'Bread', 'Butter', 'Milk', 'Apple'], ['Wine', 'nan', 'Bread', 'Butter', 'Milk', 'Apple'], ['Wine', 'Chips', 'Bread', 'nan', 'Milk', 'Apple'], ['nan', 'Chips', 'nan', 'nan', 'nan', 'nan']]\n"
     ]
    }
   ],
   "source": [
    "records = []\n",
    "for i in range (0, df.shape[0]):\n",
    "    records.append([str(df.values[i,j]) for j in range(0, df.shape[1])])\n",
    "\n",
    "print(records)"
   ]
  },
  {
   "cell_type": "code",
   "execution_count": 4,
   "metadata": {},
   "outputs": [
    {
     "name": "stdout",
     "output_type": "stream",
     "text": [
      "    Apple  Bread  Butter  Chips   Milk   Wine    nan\n",
      "0    True   True    True   True   True   True  False\n",
      "1   False   True    True  False   True   True   True\n",
      "2   False   True    True  False   True  False   True\n",
      "3    True  False   False   True  False  False   True\n",
      "4    True   True    True   True   True   True  False\n",
      "5   False  False   False   True   True   True   True\n",
      "6    True   True    True   True  False   True   True\n",
      "7   False  False   False   True   True   True   True\n",
      "8    True   True   False  False  False   True   True\n",
      "9   False   True    True  False   True   True   True\n",
      "10   True   True    True   True  False  False   True\n",
      "11   True  False    True  False   True   True   True\n",
      "12  False   True    True   True   True   True   True\n",
      "13   True   True   False  False   True   True   True\n",
      "14   True   True    True  False   True   True   True\n",
      "15   True   True    True   True   True   True  False\n",
      "16   True   True    True   True   True  False   True\n",
      "17   True  False    True   True   True  False   True\n",
      "18   True   True    True   True   True   True  False\n",
      "19   True   True    True  False   True   True   True\n",
      "20   True   True   False   True   True   True   True\n",
      "21  False  False   False   True  False  False   True\n"
     ]
    }
   ],
   "source": [
    "# chuyển records thành transaction\n",
    "te = TransactionEncoder()\n",
    "te_ary = te.fit(records).transform(records)\n",
    "df1 = pd.DataFrame(te_ary, columns=te.columns_)\n",
    "print(df1)"
   ]
  },
  {
   "cell_type": "code",
   "execution_count": 5,
   "metadata": {},
   "outputs": [
    {
     "name": "stdout",
     "output_type": "stream",
     "text": [
      "    support      itemsets\n",
      "0  0.681818       (Apple)\n",
      "1  0.727273       (Bread)\n",
      "2  0.681818      (Butter)\n",
      "3  0.636364       (Chips)\n",
      "4  0.772727        (Milk)\n",
      "5  0.727273        (Wine)\n",
      "6  0.818182         (nan)\n",
      "7  0.636364  (Milk, Wine)\n"
     ]
    }
   ],
   "source": [
    "# Xây dựng mô hình Apriori\n",
    "frequent_itemsets = apriori(df1, min_support=0.6, use_colnames=True)\n",
    "print(frequent_itemsets)"
   ]
  },
  {
   "cell_type": "code",
   "execution_count": 6,
   "metadata": {},
   "outputs": [
    {
     "name": "stdout",
     "output_type": "stream",
     "text": [
      "  antecedents consequents   support\n",
      "0      (Milk)      (Wine)  0.636364\n",
      "1      (Wine)      (Milk)  0.636364\n"
     ]
    }
   ],
   "source": [
    "# Build association rules using support metric\n",
    "rules = association_rules(frequent_itemsets, metric='support', support_only=True, min_threshold=0.1)\n",
    "rules = rules[['antecedents', 'consequents', 'support']]\n",
    "print(rules)\n"
   ]
  }
 ],
 "metadata": {
  "kernelspec": {
   "display_name": "base",
   "language": "python",
   "name": "python3"
  },
  "language_info": {
   "codemirror_mode": {
    "name": "ipython",
    "version": 3
   },
   "file_extension": ".py",
   "mimetype": "text/x-python",
   "name": "python",
   "nbconvert_exporter": "python",
   "pygments_lexer": "ipython3",
   "version": "3.11.4"
  }
 },
 "nbformat": 4,
 "nbformat_minor": 2
}
