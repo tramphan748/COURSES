{
 "cells": [
  {
   "cell_type": "code",
   "execution_count": 1,
   "metadata": {},
   "outputs": [
    {
     "name": "stderr",
     "output_type": "stream",
     "text": [
      "C:\\Users\\PC\\AppData\\Roaming\\Python\\Python311\\site-packages\\pandas\\core\\arrays\\masked.py:60: UserWarning: Pandas requires version '1.3.6' or newer of 'bottleneck' (version '1.3.5' currently installed).\n",
      "  from pandas.core import (\n"
     ]
    },
    {
     "name": "stdout",
     "output_type": "stream",
     "text": [
      "       0      1      2       3     4      5\n",
      "0   Wine  Chips  Bread  Butter  Milk  Apple\n",
      "1   Wine    NaN  Bread  Butter  Milk    NaN\n",
      "2    NaN    NaN  Bread  Butter  Milk    NaN\n",
      "3    NaN  Chips    NaN     NaN   NaN  Apple\n",
      "4   Wine  Chips  Bread  Butter  Milk  Apple\n",
      "5   Wine  Chips    NaN     NaN  Milk    NaN\n",
      "6   Wine  Chips  Bread  Butter   NaN  Apple\n",
      "7   Wine  Chips    NaN     NaN  Milk    NaN\n",
      "8   Wine    NaN  Bread     NaN   NaN  Apple\n",
      "9   Wine    NaN  Bread  Butter  Milk    NaN\n",
      "10   NaN  Chips  Bread  Butter   NaN  Apple\n",
      "11  Wine    NaN    NaN  Butter  Milk  Apple\n",
      "12  Wine  Chips  Bread  Butter  Milk    NaN\n",
      "13  Wine    NaN  Bread     NaN  Milk  Apple\n",
      "14  Wine    NaN  Bread  Butter  Milk  Apple\n",
      "15  Wine  Chips  Bread  Butter  Milk  Apple\n",
      "16   NaN  Chips  Bread  Butter  Milk  Apple\n",
      "17   NaN  Chips    NaN  Butter  Milk  Apple\n",
      "18  Wine  Chips  Bread  Butter  Milk  Apple\n",
      "19  Wine    NaN  Bread  Butter  Milk  Apple\n",
      "20  Wine  Chips  Bread     NaN  Milk  Apple\n",
      "21   NaN  Chips    NaN     NaN   NaN    NaN\n"
     ]
    }
   ],
   "source": [
    "import numpy as np\n",
    "import matplotlib.pyplot as plt\n",
    "import pandas as pd\n",
    "from apyori import apriori\n",
    "\n",
    "dataset = pd.read_csv('C:\\\\Users\\\\PC\\\\Desktop\\\\CODE\\\\PY\\\\Năm 3 HKII\\\\KPDL\\\\lab05\\\\data.csv', encoding='utf-8', header=None)\n",
    "print(dataset)\n"
   ]
  },
  {
   "cell_type": "code",
   "execution_count": 2,
   "metadata": {},
   "outputs": [
    {
     "name": "stdout",
     "output_type": "stream",
     "text": [
      "[['Wine', 'Chips', 'Bread', 'Butter', 'Milk', 'Apple'], ['Wine', 'Bread', 'Butter', 'Milk'], ['Bread', 'Butter', 'Milk'], ['Chips', 'Apple'], ['Wine', 'Chips', 'Bread', 'Butter', 'Milk', 'Apple'], ['Wine', 'Chips', 'Milk'], ['Wine', 'Chips', 'Bread', 'Butter', 'Apple'], ['Wine', 'Chips', 'Milk'], ['Wine', 'Bread', 'Apple'], ['Wine', 'Bread', 'Butter', 'Milk'], ['Chips', 'Bread', 'Butter', 'Apple'], ['Wine', 'Butter', 'Milk', 'Apple'], ['Wine', 'Chips', 'Bread', 'Butter', 'Milk'], ['Wine', 'Bread', 'Milk', 'Apple'], ['Wine', 'Bread', 'Butter', 'Milk', 'Apple'], ['Wine', 'Chips', 'Bread', 'Butter', 'Milk', 'Apple'], ['Chips', 'Bread', 'Butter', 'Milk', 'Apple'], ['Chips', 'Butter', 'Milk', 'Apple'], ['Wine', 'Chips', 'Bread', 'Butter', 'Milk', 'Apple'], ['Wine', 'Bread', 'Butter', 'Milk', 'Apple'], ['Wine', 'Chips', 'Bread', 'Milk', 'Apple'], ['Chips']]\n"
     ]
    }
   ],
   "source": [
    "# Data Preprocessing\n",
    "transactions = []\n",
    "for i in range(dataset.shape[0]):\n",
    "    row = dataset.iloc[i].dropna().tolist()\n",
    "    transactions.append(row)\n",
    "print(transactions)"
   ]
  },
  {
   "cell_type": "code",
   "execution_count": 3,
   "metadata": {},
   "outputs": [
    {
     "name": "stdout",
     "output_type": "stream",
     "text": [
      "<filter object at 0x00000256FE234D90>\n"
     ]
    }
   ],
   "source": [
    "association_rules = apriori(transactions, min_support = 0.5, min_length = 2)\n",
    "results = list(association_rules)\n",
    "results_filter = filter(lambda x: len(x.items) > 1, results) # filter transactions containing at least 2 items\n",
    "print(results_filter)"
   ]
  },
  {
   "cell_type": "code",
   "execution_count": 4,
   "metadata": {},
   "outputs": [],
   "source": [
    "def inspect(results):\n",
    "    item_sets = []\n",
    "    supports = [] \n",
    "    for result in results:\n",
    "        item_sets.append(tuple(result[0]))\n",
    "        supports.append(result[1])\n",
    "    return list(zip(item_sets, supports))\n",
    "results_df = pd.DataFrame(inspect(results_filter), columns = ['Item Set', 'Support'])"
   ]
  },
  {
   "cell_type": "code",
   "execution_count": 5,
   "metadata": {},
   "outputs": [
    {
     "data": {
      "text/html": [
       "<div>\n",
       "<style scoped>\n",
       "    .dataframe tbody tr th:only-of-type {\n",
       "        vertical-align: middle;\n",
       "    }\n",
       "\n",
       "    .dataframe tbody tr th {\n",
       "        vertical-align: top;\n",
       "    }\n",
       "\n",
       "    .dataframe thead th {\n",
       "        text-align: right;\n",
       "    }\n",
       "</style>\n",
       "<table border=\"1\" class=\"dataframe\">\n",
       "  <thead>\n",
       "    <tr style=\"text-align: right;\">\n",
       "      <th></th>\n",
       "      <th>Item Set</th>\n",
       "      <th>Support</th>\n",
       "    </tr>\n",
       "  </thead>\n",
       "  <tbody>\n",
       "    <tr>\n",
       "      <th>9</th>\n",
       "      <td>(Wine, Milk)</td>\n",
       "      <td>0.636364</td>\n",
       "    </tr>\n",
       "    <tr>\n",
       "      <th>4</th>\n",
       "      <td>(Butter, Bread)</td>\n",
       "      <td>0.590909</td>\n",
       "    </tr>\n",
       "    <tr>\n",
       "      <th>5</th>\n",
       "      <td>(Bread, Milk)</td>\n",
       "      <td>0.590909</td>\n",
       "    </tr>\n",
       "    <tr>\n",
       "      <th>6</th>\n",
       "      <td>(Bread, Wine)</td>\n",
       "      <td>0.590909</td>\n",
       "    </tr>\n",
       "    <tr>\n",
       "      <th>7</th>\n",
       "      <td>(Butter, Milk)</td>\n",
       "      <td>0.590909</td>\n",
       "    </tr>\n",
       "    <tr>\n",
       "      <th>0</th>\n",
       "      <td>(Bread, Apple)</td>\n",
       "      <td>0.545455</td>\n",
       "    </tr>\n",
       "    <tr>\n",
       "      <th>1</th>\n",
       "      <td>(Butter, Apple)</td>\n",
       "      <td>0.500000</td>\n",
       "    </tr>\n",
       "    <tr>\n",
       "      <th>2</th>\n",
       "      <td>(Apple, Milk)</td>\n",
       "      <td>0.500000</td>\n",
       "    </tr>\n",
       "    <tr>\n",
       "      <th>3</th>\n",
       "      <td>(Wine, Apple)</td>\n",
       "      <td>0.500000</td>\n",
       "    </tr>\n",
       "    <tr>\n",
       "      <th>8</th>\n",
       "      <td>(Butter, Wine)</td>\n",
       "      <td>0.500000</td>\n",
       "    </tr>\n",
       "    <tr>\n",
       "      <th>10</th>\n",
       "      <td>(Butter, Bread, Milk)</td>\n",
       "      <td>0.500000</td>\n",
       "    </tr>\n",
       "    <tr>\n",
       "      <th>11</th>\n",
       "      <td>(Bread, Wine, Milk)</td>\n",
       "      <td>0.500000</td>\n",
       "    </tr>\n",
       "  </tbody>\n",
       "</table>\n",
       "</div>"
      ],
      "text/plain": [
       "                 Item Set   Support\n",
       "9            (Wine, Milk)  0.636364\n",
       "4         (Butter, Bread)  0.590909\n",
       "5           (Bread, Milk)  0.590909\n",
       "6           (Bread, Wine)  0.590909\n",
       "7          (Butter, Milk)  0.590909\n",
       "0          (Bread, Apple)  0.545455\n",
       "1         (Butter, Apple)  0.500000\n",
       "2           (Apple, Milk)  0.500000\n",
       "3           (Wine, Apple)  0.500000\n",
       "8          (Butter, Wine)  0.500000\n",
       "10  (Butter, Bread, Milk)  0.500000\n",
       "11    (Bread, Wine, Milk)  0.500000"
      ]
     },
     "execution_count": 5,
     "metadata": {},
     "output_type": "execute_result"
    }
   ],
   "source": [
    "pd.set_option('display.max_rows', dataset.shape[0])\n",
    "results_df.sort_values('Support', ascending=False)"
   ]
  }
 ],
 "metadata": {
  "kernelspec": {
   "display_name": "base",
   "language": "python",
   "name": "python3"
  },
  "language_info": {
   "codemirror_mode": {
    "name": "ipython",
    "version": 3
   },
   "file_extension": ".py",
   "mimetype": "text/x-python",
   "name": "python",
   "nbconvert_exporter": "python",
   "pygments_lexer": "ipython3",
   "version": "3.11.4"
  }
 },
 "nbformat": 4,
 "nbformat_minor": 2
}
