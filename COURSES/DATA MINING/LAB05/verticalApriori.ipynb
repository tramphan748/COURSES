{
 "cells": [
  {
   "cell_type": "code",
   "execution_count": 1,
   "metadata": {},
   "outputs": [],
   "source": [
    "# !pip install pyECLAT"
   ]
  },
  {
   "cell_type": "code",
   "execution_count": 2,
   "metadata": {},
   "outputs": [
    {
     "name": "stderr",
     "output_type": "stream",
     "text": [
      "C:\\Users\\PC\\AppData\\Roaming\\Python\\Python311\\site-packages\\pandas\\core\\arrays\\masked.py:60: UserWarning: Pandas requires version '1.3.6' or newer of 'bottleneck' (version '1.3.5' currently installed).\n",
      "  from pandas.core import (\n"
     ]
    }
   ],
   "source": [
    "import numpy as np\n",
    "import pandas as pd\n",
    "from pyECLAT import ECLAT"
   ]
  },
  {
   "cell_type": "code",
   "execution_count": 3,
   "metadata": {},
   "outputs": [
    {
     "name": "stdout",
     "output_type": "stream",
     "text": [
      "       0      1      2       3     4      5\n",
      "0   Wine  Chips  Bread  Butter  Milk  Apple\n",
      "1   Wine    NaN  Bread  Butter  Milk    NaN\n",
      "2    NaN    NaN  Bread  Butter  Milk    NaN\n",
      "3    NaN  Chips    NaN     NaN   NaN  Apple\n",
      "4   Wine  Chips  Bread  Butter  Milk  Apple\n",
      "5   Wine  Chips    NaN     NaN  Milk    NaN\n",
      "6   Wine  Chips  Bread  Butter   NaN  Apple\n",
      "7   Wine  Chips    NaN     NaN  Milk    NaN\n",
      "8   Wine    NaN  Bread     NaN   NaN  Apple\n",
      "9   Wine    NaN  Bread  Butter  Milk    NaN\n",
      "10   NaN  Chips  Bread  Butter   NaN  Apple\n",
      "11  Wine    NaN    NaN  Butter  Milk  Apple\n",
      "12  Wine  Chips  Bread  Butter  Milk    NaN\n",
      "13  Wine    NaN  Bread     NaN  Milk  Apple\n",
      "14  Wine    NaN  Bread  Butter  Milk  Apple\n",
      "15  Wine  Chips  Bread  Butter  Milk  Apple\n",
      "16   NaN  Chips  Bread  Butter  Milk  Apple\n",
      "17   NaN  Chips    NaN  Butter  Milk  Apple\n",
      "18  Wine  Chips  Bread  Butter  Milk  Apple\n",
      "19  Wine    NaN  Bread  Butter  Milk  Apple\n",
      "20  Wine  Chips  Bread     NaN  Milk  Apple\n",
      "21   NaN  Chips    NaN     NaN   NaN    NaN\n"
     ]
    }
   ],
   "source": [
    "dataFrame = pd.read_csv('data.csv', header = None)\n",
    "print(dataFrame)"
   ]
  },
  {
   "cell_type": "code",
   "execution_count": 4,
   "metadata": {},
   "outputs": [
    {
     "name": "stderr",
     "output_type": "stream",
     "text": [
      "100%|██████████| 6/6 [00:00<00:00, 666.56it/s]\n",
      "100%|██████████| 6/6 [00:00<?, ?it/s]\n",
      "100%|██████████| 6/6 [00:00<00:00, 1500.82it/s]"
     ]
    },
    {
     "name": "stdout",
     "output_type": "stream",
     "text": [
      "    Apple  Bread  Butter  Chips  Wine  Milk\n",
      "0       1      1       1      1     1     1\n",
      "1       0      1       1      0     1     1\n",
      "2       0      1       1      0     0     1\n",
      "3       1      0       0      1     0     0\n",
      "4       1      1       1      1     1     1\n",
      "5       0      0       0      1     1     1\n",
      "6       1      1       1      1     1     0\n",
      "7       0      0       0      1     1     1\n",
      "8       1      1       0      0     1     0\n",
      "9       0      1       1      0     1     1\n",
      "10      1      1       1      1     0     0\n",
      "11      1      0       1      0     1     1\n",
      "12      0      1       1      1     1     1\n",
      "13      1      1       0      0     1     1\n",
      "14      1      1       1      0     1     1\n",
      "15      1      1       1      1     1     1\n",
      "16      1      1       1      1     0     1\n",
      "17      1      0       1      1     0     1\n",
      "18      1      1       1      1     1     1\n",
      "19      1      1       1      0     1     1\n",
      "20      1      1       0      1     1     1\n",
      "21      0      0       0      1     0     0\n"
     ]
    },
    {
     "name": "stderr",
     "output_type": "stream",
     "text": [
      "\n"
     ]
    }
   ],
   "source": [
    "eclat_instance = ECLAT(data = dataFrame, verbose = True) #verbose=True to see the loading bar\n",
    "print(eclat_instance.df_bin)"
   ]
  },
  {
   "cell_type": "code",
   "execution_count": 5,
   "metadata": {},
   "outputs": [
    {
     "name": "stdout",
     "output_type": "stream",
     "text": [
      "Combination 2 by 2\n"
     ]
    },
    {
     "name": "stderr",
     "output_type": "stream",
     "text": [
      "15it [00:00, 154.61it/s]\n"
     ]
    },
    {
     "name": "stdout",
     "output_type": "stream",
     "text": [
      "Combination 3 by 3\n"
     ]
    },
    {
     "name": "stderr",
     "output_type": "stream",
     "text": [
      "20it [00:00, 240.91it/s]\n"
     ]
    },
    {
     "name": "stdout",
     "output_type": "stream",
     "text": [
      "Combination 4 by 4\n"
     ]
    },
    {
     "name": "stderr",
     "output_type": "stream",
     "text": [
      "15it [00:00, 230.73it/s]\n"
     ]
    },
    {
     "name": "stdout",
     "output_type": "stream",
     "text": [
      "Combination 5 by 5\n"
     ]
    },
    {
     "name": "stderr",
     "output_type": "stream",
     "text": [
      "6it [00:00, 239.93it/s]\n"
     ]
    },
    {
     "name": "stdout",
     "output_type": "stream",
     "text": [
      "Combination 6 by 6\n"
     ]
    },
    {
     "name": "stderr",
     "output_type": "stream",
     "text": [
      "1it [00:00, 166.69it/s]"
     ]
    },
    {
     "name": "stdout",
     "output_type": "stream",
     "text": [
      "                     Item   Support\n",
      "0           Apple & Bread  0.545455\n",
      "1          Apple & Butter  0.500000\n",
      "2            Apple & Wine  0.500000\n",
      "3            Apple & Milk  0.500000\n",
      "4          Bread & Butter  0.590909\n",
      "5            Bread & Wine  0.590909\n",
      "6            Bread & Milk  0.590909\n",
      "7           Butter & Wine  0.500000\n",
      "8           Butter & Milk  0.590909\n",
      "9             Wine & Milk  0.636364\n",
      "10  Bread & Butter & Milk  0.500000\n",
      "11    Bread & Wine & Milk  0.500000\n"
     ]
    },
    {
     "name": "stderr",
     "output_type": "stream",
     "text": [
      "\n"
     ]
    }
   ],
   "source": [
    "# Khởi tạo các luật kết hợp\n",
    "\n",
    "# count items in each row\n",
    "item_per_transaction = eclat_instance.df_bin.astype(int).sum(axis = 1)\n",
    "# the item should appear at least at 5% of transactions\n",
    "min_support = 0.5\n",
    "# start from transactions containing at least 2 items\n",
    "min_combination = 2\n",
    "# up to maximum items per transactions\n",
    "max_combination = max(item_per_transaction)\n",
    "rule_indices, rule_supports = eclat_instance.fit(min_support = min_support,\n",
    "                                                min_combination = min_combination,\n",
    "                                                max_combination = max_combination,\n",
    "                                                separator = ' & ',\n",
    "                                                verbose = True)\n",
    "\n",
    "result = pd.DataFrame(rule_supports.items(), columns = ['Item', 'Support'])\n",
    "result.sort_values(by = ['Support'], ascending = False)\n",
    "print(result)"
   ]
  },
  {
   "cell_type": "code",
   "execution_count": null,
   "metadata": {},
   "outputs": [],
   "source": []
  }
 ],
 "metadata": {
  "kernelspec": {
   "display_name": "Python 3 (ipykernel)",
   "language": "python",
   "name": "python3"
  },
  "language_info": {
   "codemirror_mode": {
    "name": "ipython",
    "version": 3
   },
   "file_extension": ".py",
   "mimetype": "text/x-python",
   "name": "python",
   "nbconvert_exporter": "python",
   "pygments_lexer": "ipython3",
   "version": "3.11.4"
  }
 },
 "nbformat": 4,
 "nbformat_minor": 2
}
