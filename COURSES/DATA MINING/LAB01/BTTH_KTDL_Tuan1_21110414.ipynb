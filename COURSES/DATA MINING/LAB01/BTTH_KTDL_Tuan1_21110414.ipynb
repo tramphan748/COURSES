{
  "cells": [
    {
      "cell_type": "markdown",
      "metadata": {
        "id": "CHrAfyz1oc-B"
      },
      "source": [
        "# Khai thác dữ liệu_lab01\n",
        "## Phan Hồng Trâm_21110414"
      ]
    },
    {
      "cell_type": "markdown",
      "metadata": {
        "id": "OH17anNel8HY"
      },
      "source": [
        "# I. Làm sạch và tiền xử lý dữ liệu"
      ]
    },
    {
      "cell_type": "code",
      "execution_count": 1,
      "metadata": {
        "colab": {
          "base_uri": "https://localhost:8080/"
        },
        "id": "H3TYraaXfqZj",
        "outputId": "febdd40e-c431-4622-f09e-0f5ad7537123"
      },
      "outputs": [
        {
          "name": "stdout",
          "output_type": "stream",
          "text": [
            "Drive already mounted at /content/drive; to attempt to forcibly remount, call drive.mount(\"/content/drive\", force_remount=True).\n"
          ]
        }
      ],
      "source": [
        "# mount data from google drive to colab\n",
        "from google.colab import drive\n",
        "drive.mount('/content/drive')\n",
        "\n",
        "#import library\n",
        "import pandas as pd # pandas\n",
        "import numpy as np # numpy\n",
        "import time\n",
        "import os\n",
        "from sklearn import preprocessing"
      ]
    },
    {
      "cell_type": "markdown",
      "metadata": {
        "id": "PTARQ1d5mDWY"
      },
      "source": [
        "## 1.1. Load dữ liệu"
      ]
    },
    {
      "cell_type": "code",
      "execution_count": 2,
      "metadata": {
        "id": "kjqpqm7PhAhH"
      },
      "outputs": [],
      "source": [
        "def read_dataset(path):\n",
        "    # Todo: read_csv from a path and return a DataFrame\n",
        "    df = pd.read_csv(path, delimiter=',')\n",
        "    display(df)\n",
        "    # display(df.describe())\n",
        "    return df"
      ]
    },
    {
      "cell_type": "code",
      "execution_count": 3,
      "metadata": {
        "colab": {
          "base_uri": "https://localhost:8080/",
          "height": 425
        },
        "id": "1NeBpiSchC7M",
        "outputId": "aa4dbed7-3c46-47bc-d3e9-522266853c57"
      },
      "outputs": [
        {
          "data": {
            "application/vnd.google.colaboratory.intrinsic+json": {
              "summary": "{\n  \"name\": \"df = df\",\n  \"rows\": 12,\n  \"fields\": [\n    {\n      \"column\": \"ID\",\n      \"properties\": {\n        \"dtype\": \"number\",\n        \"std\": 3,\n        \"min\": 1,\n        \"max\": 12,\n        \"num_unique_values\": 12,\n        \"samples\": [\n          11,\n          10,\n          1\n        ],\n        \"semantic_type\": \"\",\n        \"description\": \"\"\n      }\n    },\n    {\n      \"column\": \"First Name\",\n      \"properties\": {\n        \"dtype\": \"string\",\n        \"num_unique_values\": 10,\n        \"samples\": [\n          \"David\",\n          \"Jane\",\n          \"Sarah\"\n        ],\n        \"semantic_type\": \"\",\n        \"description\": \"\"\n      }\n    },\n    {\n      \"column\": \"Last Name\",\n      \"properties\": {\n        \"dtype\": \"string\",\n        \"num_unique_values\": 9,\n        \"samples\": [\n          \"Miller\",\n          \"Smith\",\n          \"Lee\"\n        ],\n        \"semantic_type\": \"\",\n        \"description\": \"\"\n      }\n    },\n    {\n      \"column\": \"Age\",\n      \"properties\": {\n        \"dtype\": \"number\",\n        \"std\": 7.208580745447495,\n        \"min\": 25.0,\n        \"max\": 45.0,\n        \"num_unique_values\": 9,\n        \"samples\": [\n          28.0,\n          30.0,\n          39.0\n        ],\n        \"semantic_type\": \"\",\n        \"description\": \"\"\n      }\n    },\n    {\n      \"column\": \"Gender\",\n      \"properties\": {\n        \"dtype\": \"category\",\n        \"num_unique_values\": 2,\n        \"samples\": [\n          \"F\",\n          \"M\"\n        ],\n        \"semantic_type\": \"\",\n        \"description\": \"\"\n      }\n    },\n    {\n      \"column\": \"Department\",\n      \"properties\": {\n        \"dtype\": \"category\",\n        \"num_unique_values\": 4,\n        \"samples\": [\n          \"Marketing\",\n          \"IT\"\n        ],\n        \"semantic_type\": \"\",\n        \"description\": \"\"\n      }\n    },\n    {\n      \"column\": \"Salary\",\n      \"properties\": {\n        \"dtype\": \"number\",\n        \"std\": 13107.943462579546,\n        \"min\": 50000.0,\n        \"max\": 90000.0,\n        \"num_unique_values\": 7,\n        \"samples\": [\n          50000.0,\n          60000.0\n        ],\n        \"semantic_type\": \"\",\n        \"description\": \"\"\n      }\n    },\n    {\n      \"column\": \"Date of Joining\",\n      \"properties\": {\n        \"dtype\": \"object\",\n        \"num_unique_values\": 10,\n        \"samples\": [\n          \"05/01/2020\",\n          \"06/01/2018\"\n        ],\n        \"semantic_type\": \"\",\n        \"description\": \"\"\n      }\n    }\n  ]\n}",
              "type": "dataframe"
            },
            "text/html": [
              "\n",
              "  <div id=\"df-5383aed9-5b12-4c3a-b5f5-8d0821af9c6c\" class=\"colab-df-container\">\n",
              "    <div>\n",
              "<style scoped>\n",
              "    .dataframe tbody tr th:only-of-type {\n",
              "        vertical-align: middle;\n",
              "    }\n",
              "\n",
              "    .dataframe tbody tr th {\n",
              "        vertical-align: top;\n",
              "    }\n",
              "\n",
              "    .dataframe thead th {\n",
              "        text-align: right;\n",
              "    }\n",
              "</style>\n",
              "<table border=\"1\" class=\"dataframe\">\n",
              "  <thead>\n",
              "    <tr style=\"text-align: right;\">\n",
              "      <th></th>\n",
              "      <th>ID</th>\n",
              "      <th>First Name</th>\n",
              "      <th>Last Name</th>\n",
              "      <th>Age</th>\n",
              "      <th>Gender</th>\n",
              "      <th>Department</th>\n",
              "      <th>Salary</th>\n",
              "      <th>Date of Joining</th>\n",
              "    </tr>\n",
              "  </thead>\n",
              "  <tbody>\n",
              "    <tr>\n",
              "      <th>0</th>\n",
              "      <td>1</td>\n",
              "      <td>John</td>\n",
              "      <td>Doe</td>\n",
              "      <td>25.0</td>\n",
              "      <td>M</td>\n",
              "      <td>Sales</td>\n",
              "      <td>50000.0</td>\n",
              "      <td>01/01/2020</td>\n",
              "    </tr>\n",
              "    <tr>\n",
              "      <th>1</th>\n",
              "      <td>2</td>\n",
              "      <td>Jane</td>\n",
              "      <td>Smith</td>\n",
              "      <td>30.0</td>\n",
              "      <td>F</td>\n",
              "      <td>Marketing</td>\n",
              "      <td>60000.0</td>\n",
              "      <td>06/01/2018</td>\n",
              "    </tr>\n",
              "    <tr>\n",
              "      <th>2</th>\n",
              "      <td>3</td>\n",
              "      <td>Bob</td>\n",
              "      <td>Johnson</td>\n",
              "      <td>45.0</td>\n",
              "      <td>M</td>\n",
              "      <td>HR</td>\n",
              "      <td>70000.0</td>\n",
              "      <td>09/01/2016</td>\n",
              "    </tr>\n",
              "    <tr>\n",
              "      <th>3</th>\n",
              "      <td>4</td>\n",
              "      <td>Alice</td>\n",
              "      <td>Williams</td>\n",
              "      <td>33.0</td>\n",
              "      <td>F</td>\n",
              "      <td>IT</td>\n",
              "      <td>80000.0</td>\n",
              "      <td>02/01/2017</td>\n",
              "    </tr>\n",
              "    <tr>\n",
              "      <th>4</th>\n",
              "      <td>5</td>\n",
              "      <td>James</td>\n",
              "      <td>Brown</td>\n",
              "      <td>27.0</td>\n",
              "      <td>M</td>\n",
              "      <td>Sales</td>\n",
              "      <td>55000.0</td>\n",
              "      <td>03/01/2019</td>\n",
              "    </tr>\n",
              "    <tr>\n",
              "      <th>5</th>\n",
              "      <td>6</td>\n",
              "      <td>Sarah</td>\n",
              "      <td>Lee</td>\n",
              "      <td>NaN</td>\n",
              "      <td>F</td>\n",
              "      <td>Marketing</td>\n",
              "      <td>65000.0</td>\n",
              "      <td>12/01/2018</td>\n",
              "    </tr>\n",
              "    <tr>\n",
              "      <th>6</th>\n",
              "      <td>7</td>\n",
              "      <td>Michael</td>\n",
              "      <td>Davis</td>\n",
              "      <td>39.0</td>\n",
              "      <td>M</td>\n",
              "      <td>HR</td>\n",
              "      <td>NaN</td>\n",
              "      <td>08/01/2015</td>\n",
              "    </tr>\n",
              "    <tr>\n",
              "      <th>7</th>\n",
              "      <td>8</td>\n",
              "      <td>Susan</td>\n",
              "      <td>Miller</td>\n",
              "      <td>42.0</td>\n",
              "      <td>F</td>\n",
              "      <td>IT</td>\n",
              "      <td>90000.0</td>\n",
              "      <td>11/01/2014</td>\n",
              "    </tr>\n",
              "    <tr>\n",
              "      <th>8</th>\n",
              "      <td>9</td>\n",
              "      <td>David</td>\n",
              "      <td>Wilson</td>\n",
              "      <td>28.0</td>\n",
              "      <td>M</td>\n",
              "      <td>Sales</td>\n",
              "      <td>60000.0</td>\n",
              "      <td>05/01/2020</td>\n",
              "    </tr>\n",
              "    <tr>\n",
              "      <th>9</th>\n",
              "      <td>10</td>\n",
              "      <td>Emily</td>\n",
              "      <td>Brown</td>\n",
              "      <td>35.0</td>\n",
              "      <td>F</td>\n",
              "      <td>Marketing</td>\n",
              "      <td>55000.0</td>\n",
              "      <td>04/01/2017</td>\n",
              "    </tr>\n",
              "    <tr>\n",
              "      <th>10</th>\n",
              "      <td>11</td>\n",
              "      <td>John</td>\n",
              "      <td>Doe</td>\n",
              "      <td>25.0</td>\n",
              "      <td>M</td>\n",
              "      <td>Sales</td>\n",
              "      <td>50000.0</td>\n",
              "      <td>01/01/2020</td>\n",
              "    </tr>\n",
              "    <tr>\n",
              "      <th>11</th>\n",
              "      <td>12</td>\n",
              "      <td>John</td>\n",
              "      <td>Doe</td>\n",
              "      <td>25.0</td>\n",
              "      <td>M</td>\n",
              "      <td>Sales</td>\n",
              "      <td>50000.0</td>\n",
              "      <td>01/01/2020</td>\n",
              "    </tr>\n",
              "  </tbody>\n",
              "</table>\n",
              "</div>\n",
              "    <div class=\"colab-df-buttons\">\n",
              "\n",
              "  <div class=\"colab-df-container\">\n",
              "    <button class=\"colab-df-convert\" onclick=\"convertToInteractive('df-5383aed9-5b12-4c3a-b5f5-8d0821af9c6c')\"\n",
              "            title=\"Convert this dataframe to an interactive table.\"\n",
              "            style=\"display:none;\">\n",
              "\n",
              "  <svg xmlns=\"http://www.w3.org/2000/svg\" height=\"24px\" viewBox=\"0 -960 960 960\">\n",
              "    <path d=\"M120-120v-720h720v720H120Zm60-500h600v-160H180v160Zm220 220h160v-160H400v160Zm0 220h160v-160H400v160ZM180-400h160v-160H180v160Zm440 0h160v-160H620v160ZM180-180h160v-160H180v160Zm440 0h160v-160H620v160Z\"/>\n",
              "  </svg>\n",
              "    </button>\n",
              "\n",
              "  <style>\n",
              "    .colab-df-container {\n",
              "      display:flex;\n",
              "      gap: 12px;\n",
              "    }\n",
              "\n",
              "    .colab-df-convert {\n",
              "      background-color: #E8F0FE;\n",
              "      border: none;\n",
              "      border-radius: 50%;\n",
              "      cursor: pointer;\n",
              "      display: none;\n",
              "      fill: #1967D2;\n",
              "      height: 32px;\n",
              "      padding: 0 0 0 0;\n",
              "      width: 32px;\n",
              "    }\n",
              "\n",
              "    .colab-df-convert:hover {\n",
              "      background-color: #E2EBFA;\n",
              "      box-shadow: 0px 1px 2px rgba(60, 64, 67, 0.3), 0px 1px 3px 1px rgba(60, 64, 67, 0.15);\n",
              "      fill: #174EA6;\n",
              "    }\n",
              "\n",
              "    .colab-df-buttons div {\n",
              "      margin-bottom: 4px;\n",
              "    }\n",
              "\n",
              "    [theme=dark] .colab-df-convert {\n",
              "      background-color: #3B4455;\n",
              "      fill: #D2E3FC;\n",
              "    }\n",
              "\n",
              "    [theme=dark] .colab-df-convert:hover {\n",
              "      background-color: #434B5C;\n",
              "      box-shadow: 0px 1px 3px 1px rgba(0, 0, 0, 0.15);\n",
              "      filter: drop-shadow(0px 1px 2px rgba(0, 0, 0, 0.3));\n",
              "      fill: #FFFFFF;\n",
              "    }\n",
              "  </style>\n",
              "\n",
              "    <script>\n",
              "      const buttonEl =\n",
              "        document.querySelector('#df-5383aed9-5b12-4c3a-b5f5-8d0821af9c6c button.colab-df-convert');\n",
              "      buttonEl.style.display =\n",
              "        google.colab.kernel.accessAllowed ? 'block' : 'none';\n",
              "\n",
              "      async function convertToInteractive(key) {\n",
              "        const element = document.querySelector('#df-5383aed9-5b12-4c3a-b5f5-8d0821af9c6c');\n",
              "        const dataTable =\n",
              "          await google.colab.kernel.invokeFunction('convertToInteractive',\n",
              "                                                    [key], {});\n",
              "        if (!dataTable) return;\n",
              "\n",
              "        const docLinkHtml = 'Like what you see? Visit the ' +\n",
              "          '<a target=\"_blank\" href=https://colab.research.google.com/notebooks/data_table.ipynb>data table notebook</a>'\n",
              "          + ' to learn more about interactive tables.';\n",
              "        element.innerHTML = '';\n",
              "        dataTable['output_type'] = 'display_data';\n",
              "        await google.colab.output.renderOutput(dataTable, element);\n",
              "        const docLink = document.createElement('div');\n",
              "        docLink.innerHTML = docLinkHtml;\n",
              "        element.appendChild(docLink);\n",
              "      }\n",
              "    </script>\n",
              "  </div>\n",
              "\n",
              "\n",
              "<div id=\"df-21369d9a-c2d2-42b9-adfe-40972af86254\">\n",
              "  <button class=\"colab-df-quickchart\" onclick=\"quickchart('df-21369d9a-c2d2-42b9-adfe-40972af86254')\"\n",
              "            title=\"Suggest charts\"\n",
              "            style=\"display:none;\">\n",
              "\n",
              "<svg xmlns=\"http://www.w3.org/2000/svg\" height=\"24px\"viewBox=\"0 0 24 24\"\n",
              "     width=\"24px\">\n",
              "    <g>\n",
              "        <path d=\"M19 3H5c-1.1 0-2 .9-2 2v14c0 1.1.9 2 2 2h14c1.1 0 2-.9 2-2V5c0-1.1-.9-2-2-2zM9 17H7v-7h2v7zm4 0h-2V7h2v10zm4 0h-2v-4h2v4z\"/>\n",
              "    </g>\n",
              "</svg>\n",
              "  </button>\n",
              "\n",
              "<style>\n",
              "  .colab-df-quickchart {\n",
              "      --bg-color: #E8F0FE;\n",
              "      --fill-color: #1967D2;\n",
              "      --hover-bg-color: #E2EBFA;\n",
              "      --hover-fill-color: #174EA6;\n",
              "      --disabled-fill-color: #AAA;\n",
              "      --disabled-bg-color: #DDD;\n",
              "  }\n",
              "\n",
              "  [theme=dark] .colab-df-quickchart {\n",
              "      --bg-color: #3B4455;\n",
              "      --fill-color: #D2E3FC;\n",
              "      --hover-bg-color: #434B5C;\n",
              "      --hover-fill-color: #FFFFFF;\n",
              "      --disabled-bg-color: #3B4455;\n",
              "      --disabled-fill-color: #666;\n",
              "  }\n",
              "\n",
              "  .colab-df-quickchart {\n",
              "    background-color: var(--bg-color);\n",
              "    border: none;\n",
              "    border-radius: 50%;\n",
              "    cursor: pointer;\n",
              "    display: none;\n",
              "    fill: var(--fill-color);\n",
              "    height: 32px;\n",
              "    padding: 0;\n",
              "    width: 32px;\n",
              "  }\n",
              "\n",
              "  .colab-df-quickchart:hover {\n",
              "    background-color: var(--hover-bg-color);\n",
              "    box-shadow: 0 1px 2px rgba(60, 64, 67, 0.3), 0 1px 3px 1px rgba(60, 64, 67, 0.15);\n",
              "    fill: var(--button-hover-fill-color);\n",
              "  }\n",
              "\n",
              "  .colab-df-quickchart-complete:disabled,\n",
              "  .colab-df-quickchart-complete:disabled:hover {\n",
              "    background-color: var(--disabled-bg-color);\n",
              "    fill: var(--disabled-fill-color);\n",
              "    box-shadow: none;\n",
              "  }\n",
              "\n",
              "  .colab-df-spinner {\n",
              "    border: 2px solid var(--fill-color);\n",
              "    border-color: transparent;\n",
              "    border-bottom-color: var(--fill-color);\n",
              "    animation:\n",
              "      spin 1s steps(1) infinite;\n",
              "  }\n",
              "\n",
              "  @keyframes spin {\n",
              "    0% {\n",
              "      border-color: transparent;\n",
              "      border-bottom-color: var(--fill-color);\n",
              "      border-left-color: var(--fill-color);\n",
              "    }\n",
              "    20% {\n",
              "      border-color: transparent;\n",
              "      border-left-color: var(--fill-color);\n",
              "      border-top-color: var(--fill-color);\n",
              "    }\n",
              "    30% {\n",
              "      border-color: transparent;\n",
              "      border-left-color: var(--fill-color);\n",
              "      border-top-color: var(--fill-color);\n",
              "      border-right-color: var(--fill-color);\n",
              "    }\n",
              "    40% {\n",
              "      border-color: transparent;\n",
              "      border-right-color: var(--fill-color);\n",
              "      border-top-color: var(--fill-color);\n",
              "    }\n",
              "    60% {\n",
              "      border-color: transparent;\n",
              "      border-right-color: var(--fill-color);\n",
              "    }\n",
              "    80% {\n",
              "      border-color: transparent;\n",
              "      border-right-color: var(--fill-color);\n",
              "      border-bottom-color: var(--fill-color);\n",
              "    }\n",
              "    90% {\n",
              "      border-color: transparent;\n",
              "      border-bottom-color: var(--fill-color);\n",
              "    }\n",
              "  }\n",
              "</style>\n",
              "\n",
              "  <script>\n",
              "    async function quickchart(key) {\n",
              "      const quickchartButtonEl =\n",
              "        document.querySelector('#' + key + ' button');\n",
              "      quickchartButtonEl.disabled = true;  // To prevent multiple clicks.\n",
              "      quickchartButtonEl.classList.add('colab-df-spinner');\n",
              "      try {\n",
              "        const charts = await google.colab.kernel.invokeFunction(\n",
              "            'suggestCharts', [key], {});\n",
              "      } catch (error) {\n",
              "        console.error('Error during call to suggestCharts:', error);\n",
              "      }\n",
              "      quickchartButtonEl.classList.remove('colab-df-spinner');\n",
              "      quickchartButtonEl.classList.add('colab-df-quickchart-complete');\n",
              "    }\n",
              "    (() => {\n",
              "      let quickchartButtonEl =\n",
              "        document.querySelector('#df-21369d9a-c2d2-42b9-adfe-40972af86254 button');\n",
              "      quickchartButtonEl.style.display =\n",
              "        google.colab.kernel.accessAllowed ? 'block' : 'none';\n",
              "    })();\n",
              "  </script>\n",
              "</div>\n",
              "\n",
              "    </div>\n",
              "  </div>\n"
            ],
            "text/plain": [
              "    ID First Name Last Name   Age Gender Department   Salary Date of Joining\n",
              "0    1      John        Doe  25.0      M      Sales  50000.0      01/01/2020\n",
              "1    2       Jane     Smith  30.0      F  Marketing  60000.0      06/01/2018\n",
              "2    3        Bob   Johnson  45.0      M         HR  70000.0      09/01/2016\n",
              "3    4      Alice  Williams  33.0      F         IT  80000.0      02/01/2017\n",
              "4    5      James     Brown  27.0      M      Sales  55000.0      03/01/2019\n",
              "5    6      Sarah       Lee   NaN      F  Marketing  65000.0      12/01/2018\n",
              "6    7    Michael     Davis  39.0      M         HR      NaN      08/01/2015\n",
              "7    8      Susan    Miller  42.0      F         IT  90000.0      11/01/2014\n",
              "8    9      David    Wilson  28.0      M      Sales  60000.0      05/01/2020\n",
              "9   10      Emily     Brown  35.0      F  Marketing  55000.0      04/01/2017\n",
              "10  11      John        Doe  25.0      M      Sales  50000.0      01/01/2020\n",
              "11  12      John        Doe  25.0      M      Sales  50000.0      01/01/2020"
            ]
          },
          "metadata": {},
          "output_type": "display_data"
        }
      ],
      "source": [
        "PATH = \"/content/drive/MyDrive/Colab Notebooks/Data_Mining/Lab01/\" # Path to your file\n",
        "\n",
        "df = read_dataset(os.path.join(PATH, \"data.csv\"))\n",
        "df = df.set_index('ID')"
      ]
    },
    {
      "cell_type": "code",
      "execution_count": 4,
      "metadata": {
        "colab": {
          "base_uri": "https://localhost:8080/",
          "height": 300
        },
        "id": "Eq9mR42bIKZT",
        "outputId": "539dcf6c-b86d-4ecd-a7f0-ca3452c64415"
      },
      "outputs": [
        {
          "data": {
            "application/vnd.google.colaboratory.intrinsic+json": {
              "summary": "{\n  \"name\": \"df\",\n  \"rows\": 8,\n  \"fields\": [\n    {\n      \"column\": \"Age\",\n      \"properties\": {\n        \"dtype\": \"number\",\n        \"std\": 12.602155504737167,\n        \"min\": 7.208580745447495,\n        \"max\": 45.0,\n        \"num_unique_values\": 8,\n        \"samples\": [\n          32.18181818181818,\n          30.0,\n          11.0\n        ],\n        \"semantic_type\": \"\",\n        \"description\": \"\"\n      }\n    },\n    {\n      \"column\": \"Salary\",\n      \"properties\": {\n        \"dtype\": \"number\",\n        \"std\": 29326.70456364811,\n        \"min\": 11.0,\n        \"max\": 90000.0,\n        \"num_unique_values\": 8,\n        \"samples\": [\n          62272.72727272727,\n          60000.0,\n          11.0\n        ],\n        \"semantic_type\": \"\",\n        \"description\": \"\"\n      }\n    }\n  ]\n}",
              "type": "dataframe"
            },
            "text/html": [
              "\n",
              "  <div id=\"df-e1ed7121-f105-4b32-92d1-95c68a5e7aed\" class=\"colab-df-container\">\n",
              "    <div>\n",
              "<style scoped>\n",
              "    .dataframe tbody tr th:only-of-type {\n",
              "        vertical-align: middle;\n",
              "    }\n",
              "\n",
              "    .dataframe tbody tr th {\n",
              "        vertical-align: top;\n",
              "    }\n",
              "\n",
              "    .dataframe thead th {\n",
              "        text-align: right;\n",
              "    }\n",
              "</style>\n",
              "<table border=\"1\" class=\"dataframe\">\n",
              "  <thead>\n",
              "    <tr style=\"text-align: right;\">\n",
              "      <th></th>\n",
              "      <th>Age</th>\n",
              "      <th>Salary</th>\n",
              "    </tr>\n",
              "  </thead>\n",
              "  <tbody>\n",
              "    <tr>\n",
              "      <th>count</th>\n",
              "      <td>11.000000</td>\n",
              "      <td>11.000000</td>\n",
              "    </tr>\n",
              "    <tr>\n",
              "      <th>mean</th>\n",
              "      <td>32.181818</td>\n",
              "      <td>62272.727273</td>\n",
              "    </tr>\n",
              "    <tr>\n",
              "      <th>std</th>\n",
              "      <td>7.208581</td>\n",
              "      <td>13107.943463</td>\n",
              "    </tr>\n",
              "    <tr>\n",
              "      <th>min</th>\n",
              "      <td>25.000000</td>\n",
              "      <td>50000.000000</td>\n",
              "    </tr>\n",
              "    <tr>\n",
              "      <th>25%</th>\n",
              "      <td>26.000000</td>\n",
              "      <td>52500.000000</td>\n",
              "    </tr>\n",
              "    <tr>\n",
              "      <th>50%</th>\n",
              "      <td>30.000000</td>\n",
              "      <td>60000.000000</td>\n",
              "    </tr>\n",
              "    <tr>\n",
              "      <th>75%</th>\n",
              "      <td>37.000000</td>\n",
              "      <td>67500.000000</td>\n",
              "    </tr>\n",
              "    <tr>\n",
              "      <th>max</th>\n",
              "      <td>45.000000</td>\n",
              "      <td>90000.000000</td>\n",
              "    </tr>\n",
              "  </tbody>\n",
              "</table>\n",
              "</div>\n",
              "    <div class=\"colab-df-buttons\">\n",
              "\n",
              "  <div class=\"colab-df-container\">\n",
              "    <button class=\"colab-df-convert\" onclick=\"convertToInteractive('df-e1ed7121-f105-4b32-92d1-95c68a5e7aed')\"\n",
              "            title=\"Convert this dataframe to an interactive table.\"\n",
              "            style=\"display:none;\">\n",
              "\n",
              "  <svg xmlns=\"http://www.w3.org/2000/svg\" height=\"24px\" viewBox=\"0 -960 960 960\">\n",
              "    <path d=\"M120-120v-720h720v720H120Zm60-500h600v-160H180v160Zm220 220h160v-160H400v160Zm0 220h160v-160H400v160ZM180-400h160v-160H180v160Zm440 0h160v-160H620v160ZM180-180h160v-160H180v160Zm440 0h160v-160H620v160Z\"/>\n",
              "  </svg>\n",
              "    </button>\n",
              "\n",
              "  <style>\n",
              "    .colab-df-container {\n",
              "      display:flex;\n",
              "      gap: 12px;\n",
              "    }\n",
              "\n",
              "    .colab-df-convert {\n",
              "      background-color: #E8F0FE;\n",
              "      border: none;\n",
              "      border-radius: 50%;\n",
              "      cursor: pointer;\n",
              "      display: none;\n",
              "      fill: #1967D2;\n",
              "      height: 32px;\n",
              "      padding: 0 0 0 0;\n",
              "      width: 32px;\n",
              "    }\n",
              "\n",
              "    .colab-df-convert:hover {\n",
              "      background-color: #E2EBFA;\n",
              "      box-shadow: 0px 1px 2px rgba(60, 64, 67, 0.3), 0px 1px 3px 1px rgba(60, 64, 67, 0.15);\n",
              "      fill: #174EA6;\n",
              "    }\n",
              "\n",
              "    .colab-df-buttons div {\n",
              "      margin-bottom: 4px;\n",
              "    }\n",
              "\n",
              "    [theme=dark] .colab-df-convert {\n",
              "      background-color: #3B4455;\n",
              "      fill: #D2E3FC;\n",
              "    }\n",
              "\n",
              "    [theme=dark] .colab-df-convert:hover {\n",
              "      background-color: #434B5C;\n",
              "      box-shadow: 0px 1px 3px 1px rgba(0, 0, 0, 0.15);\n",
              "      filter: drop-shadow(0px 1px 2px rgba(0, 0, 0, 0.3));\n",
              "      fill: #FFFFFF;\n",
              "    }\n",
              "  </style>\n",
              "\n",
              "    <script>\n",
              "      const buttonEl =\n",
              "        document.querySelector('#df-e1ed7121-f105-4b32-92d1-95c68a5e7aed button.colab-df-convert');\n",
              "      buttonEl.style.display =\n",
              "        google.colab.kernel.accessAllowed ? 'block' : 'none';\n",
              "\n",
              "      async function convertToInteractive(key) {\n",
              "        const element = document.querySelector('#df-e1ed7121-f105-4b32-92d1-95c68a5e7aed');\n",
              "        const dataTable =\n",
              "          await google.colab.kernel.invokeFunction('convertToInteractive',\n",
              "                                                    [key], {});\n",
              "        if (!dataTable) return;\n",
              "\n",
              "        const docLinkHtml = 'Like what you see? Visit the ' +\n",
              "          '<a target=\"_blank\" href=https://colab.research.google.com/notebooks/data_table.ipynb>data table notebook</a>'\n",
              "          + ' to learn more about interactive tables.';\n",
              "        element.innerHTML = '';\n",
              "        dataTable['output_type'] = 'display_data';\n",
              "        await google.colab.output.renderOutput(dataTable, element);\n",
              "        const docLink = document.createElement('div');\n",
              "        docLink.innerHTML = docLinkHtml;\n",
              "        element.appendChild(docLink);\n",
              "      }\n",
              "    </script>\n",
              "  </div>\n",
              "\n",
              "\n",
              "<div id=\"df-1cb630de-3185-4350-87fd-ec6ba2938988\">\n",
              "  <button class=\"colab-df-quickchart\" onclick=\"quickchart('df-1cb630de-3185-4350-87fd-ec6ba2938988')\"\n",
              "            title=\"Suggest charts\"\n",
              "            style=\"display:none;\">\n",
              "\n",
              "<svg xmlns=\"http://www.w3.org/2000/svg\" height=\"24px\"viewBox=\"0 0 24 24\"\n",
              "     width=\"24px\">\n",
              "    <g>\n",
              "        <path d=\"M19 3H5c-1.1 0-2 .9-2 2v14c0 1.1.9 2 2 2h14c1.1 0 2-.9 2-2V5c0-1.1-.9-2-2-2zM9 17H7v-7h2v7zm4 0h-2V7h2v10zm4 0h-2v-4h2v4z\"/>\n",
              "    </g>\n",
              "</svg>\n",
              "  </button>\n",
              "\n",
              "<style>\n",
              "  .colab-df-quickchart {\n",
              "      --bg-color: #E8F0FE;\n",
              "      --fill-color: #1967D2;\n",
              "      --hover-bg-color: #E2EBFA;\n",
              "      --hover-fill-color: #174EA6;\n",
              "      --disabled-fill-color: #AAA;\n",
              "      --disabled-bg-color: #DDD;\n",
              "  }\n",
              "\n",
              "  [theme=dark] .colab-df-quickchart {\n",
              "      --bg-color: #3B4455;\n",
              "      --fill-color: #D2E3FC;\n",
              "      --hover-bg-color: #434B5C;\n",
              "      --hover-fill-color: #FFFFFF;\n",
              "      --disabled-bg-color: #3B4455;\n",
              "      --disabled-fill-color: #666;\n",
              "  }\n",
              "\n",
              "  .colab-df-quickchart {\n",
              "    background-color: var(--bg-color);\n",
              "    border: none;\n",
              "    border-radius: 50%;\n",
              "    cursor: pointer;\n",
              "    display: none;\n",
              "    fill: var(--fill-color);\n",
              "    height: 32px;\n",
              "    padding: 0;\n",
              "    width: 32px;\n",
              "  }\n",
              "\n",
              "  .colab-df-quickchart:hover {\n",
              "    background-color: var(--hover-bg-color);\n",
              "    box-shadow: 0 1px 2px rgba(60, 64, 67, 0.3), 0 1px 3px 1px rgba(60, 64, 67, 0.15);\n",
              "    fill: var(--button-hover-fill-color);\n",
              "  }\n",
              "\n",
              "  .colab-df-quickchart-complete:disabled,\n",
              "  .colab-df-quickchart-complete:disabled:hover {\n",
              "    background-color: var(--disabled-bg-color);\n",
              "    fill: var(--disabled-fill-color);\n",
              "    box-shadow: none;\n",
              "  }\n",
              "\n",
              "  .colab-df-spinner {\n",
              "    border: 2px solid var(--fill-color);\n",
              "    border-color: transparent;\n",
              "    border-bottom-color: var(--fill-color);\n",
              "    animation:\n",
              "      spin 1s steps(1) infinite;\n",
              "  }\n",
              "\n",
              "  @keyframes spin {\n",
              "    0% {\n",
              "      border-color: transparent;\n",
              "      border-bottom-color: var(--fill-color);\n",
              "      border-left-color: var(--fill-color);\n",
              "    }\n",
              "    20% {\n",
              "      border-color: transparent;\n",
              "      border-left-color: var(--fill-color);\n",
              "      border-top-color: var(--fill-color);\n",
              "    }\n",
              "    30% {\n",
              "      border-color: transparent;\n",
              "      border-left-color: var(--fill-color);\n",
              "      border-top-color: var(--fill-color);\n",
              "      border-right-color: var(--fill-color);\n",
              "    }\n",
              "    40% {\n",
              "      border-color: transparent;\n",
              "      border-right-color: var(--fill-color);\n",
              "      border-top-color: var(--fill-color);\n",
              "    }\n",
              "    60% {\n",
              "      border-color: transparent;\n",
              "      border-right-color: var(--fill-color);\n",
              "    }\n",
              "    80% {\n",
              "      border-color: transparent;\n",
              "      border-right-color: var(--fill-color);\n",
              "      border-bottom-color: var(--fill-color);\n",
              "    }\n",
              "    90% {\n",
              "      border-color: transparent;\n",
              "      border-bottom-color: var(--fill-color);\n",
              "    }\n",
              "  }\n",
              "</style>\n",
              "\n",
              "  <script>\n",
              "    async function quickchart(key) {\n",
              "      const quickchartButtonEl =\n",
              "        document.querySelector('#' + key + ' button');\n",
              "      quickchartButtonEl.disabled = true;  // To prevent multiple clicks.\n",
              "      quickchartButtonEl.classList.add('colab-df-spinner');\n",
              "      try {\n",
              "        const charts = await google.colab.kernel.invokeFunction(\n",
              "            'suggestCharts', [key], {});\n",
              "      } catch (error) {\n",
              "        console.error('Error during call to suggestCharts:', error);\n",
              "      }\n",
              "      quickchartButtonEl.classList.remove('colab-df-spinner');\n",
              "      quickchartButtonEl.classList.add('colab-df-quickchart-complete');\n",
              "    }\n",
              "    (() => {\n",
              "      let quickchartButtonEl =\n",
              "        document.querySelector('#df-1cb630de-3185-4350-87fd-ec6ba2938988 button');\n",
              "      quickchartButtonEl.style.display =\n",
              "        google.colab.kernel.accessAllowed ? 'block' : 'none';\n",
              "    })();\n",
              "  </script>\n",
              "</div>\n",
              "\n",
              "    </div>\n",
              "  </div>\n"
            ],
            "text/plain": [
              "             Age        Salary\n",
              "count  11.000000     11.000000\n",
              "mean   32.181818  62272.727273\n",
              "std     7.208581  13107.943463\n",
              "min    25.000000  50000.000000\n",
              "25%    26.000000  52500.000000\n",
              "50%    30.000000  60000.000000\n",
              "75%    37.000000  67500.000000\n",
              "max    45.000000  90000.000000"
            ]
          },
          "execution_count": 4,
          "metadata": {},
          "output_type": "execute_result"
        }
      ],
      "source": [
        "df.describe() # generate descriptive statistics of the dataset\n"
      ]
    },
    {
      "cell_type": "markdown",
      "metadata": {
        "id": "LzbWP7aPmJPl"
      },
      "source": [
        "## 1.2. Xử lý các giá trị missing"
      ]
    },
    {
      "cell_type": "code",
      "execution_count": 5,
      "metadata": {
        "colab": {
          "base_uri": "https://localhost:8080/"
        },
        "id": "cGQOtkyBkeG9",
        "outputId": "00c068e1-8a56-46a6-980d-7be14f50265d"
      },
      "outputs": [
        {
          "name": "stdout",
          "output_type": "stream",
          "text": [
            "First Name         0\n",
            "Last Name          0\n",
            "Age                1\n",
            "Gender             0\n",
            "Department         0\n",
            "Salary             1\n",
            "Date of Joining    0\n",
            "dtype: int64\n",
            "\n",
            "After fill missing:\n",
            "First Name         0\n",
            "Last Name          0\n",
            "Age                0\n",
            "Gender             0\n",
            "Department         0\n",
            "Salary             0\n",
            "Date of Joining    0\n",
            "dtype: int64\n"
          ]
        }
      ],
      "source": [
        "# Kiểm tra giá trị missing\n",
        "print(df.isnull().sum())\n",
        "# Làm đầy các giá trị missing bằng mean\n",
        "df['Age'].fillna(df['Age'].mean(), inplace=True)\n",
        "df['Salary'].fillna(df['Salary'].mean(), inplace=True)\n",
        "print('\\nAfter fill missing:')\n",
        "print(df.isnull().sum())"
      ]
    },
    {
      "cell_type": "markdown",
      "metadata": {
        "id": "CptU-Bewmeb7"
      },
      "source": [
        "## 1.3. Xử lý các giá trị giống nhau"
      ]
    },
    {
      "cell_type": "code",
      "execution_count": 6,
      "metadata": {
        "colab": {
          "base_uri": "https://localhost:8080/"
        },
        "id": "yYzhFBtjnHnO",
        "outputId": "20c9f312-b2ac-436e-dadb-014b17f62e89"
      },
      "outputs": [
        {
          "name": "stdout",
          "output_type": "stream",
          "text": [
            "2\n",
            "   First Name Last Name        Age Gender Department        Salary  \\\n",
            "ID                                                                   \n",
            "1       John        Doe  25.000000      M      Sales  50000.000000   \n",
            "2        Jane     Smith  30.000000      F  Marketing  60000.000000   \n",
            "3         Bob   Johnson  45.000000      M         HR  70000.000000   \n",
            "4       Alice  Williams  33.000000      F         IT  80000.000000   \n",
            "5       James     Brown  27.000000      M      Sales  55000.000000   \n",
            "6       Sarah       Lee  32.181818      F  Marketing  65000.000000   \n",
            "7     Michael     Davis  39.000000      M         HR  62272.727273   \n",
            "8       Susan    Miller  42.000000      F         IT  90000.000000   \n",
            "9       David    Wilson  28.000000      M      Sales  60000.000000   \n",
            "10      Emily     Brown  35.000000      F  Marketing  55000.000000   \n",
            "\n",
            "   Date of Joining  \n",
            "ID                  \n",
            "1       01/01/2020  \n",
            "2       06/01/2018  \n",
            "3       09/01/2016  \n",
            "4       02/01/2017  \n",
            "5       03/01/2019  \n",
            "6       12/01/2018  \n",
            "7       08/01/2015  \n",
            "8       11/01/2014  \n",
            "9       05/01/2020  \n",
            "10      04/01/2017  \n"
          ]
        }
      ],
      "source": [
        "#  Kiểm tra giá trị duplicated\n",
        "print(df.duplicated().sum())\n",
        "# Drop duplicated\n",
        "df=df.drop_duplicates()\n",
        "print(df)\n"
      ]
    },
    {
      "cell_type": "markdown",
      "metadata": {
        "id": "of8NG3Mdmkrd"
      },
      "source": [
        "## 1.4. Mã hóa các biến categorical"
      ]
    },
    {
      "cell_type": "markdown",
      "metadata": {
        "id": "v-81jQSoI4nQ"
      },
      "source": [
        "pd.get_dummies là một hàm trong thư viện Pandas của Python được sử dụng để chuyển đổi các cột dữ liệu dạng phân loại (categorical) sang dạng ma trận đặc trưng (dummy matrix). Ma trận đặc trưng là một ma trận có số lượng cột bằng số lượng giá trị duy nhất trong cột dữ liệu ban đầu, và mỗi cột đại diện cho một giá trị duy nhất."
      ]
    },
    {
      "cell_type": "code",
      "execution_count": 7,
      "metadata": {
        "id": "1hFnwO_Und94"
      },
      "outputs": [],
      "source": [
        "# Mã hóa dữ liệu categorical\n",
        "df =pd.get_dummies(df, columns=['Gender', 'Department'], dtype=float)\n"
      ]
    },
    {
      "cell_type": "markdown",
      "metadata": {
        "id": "EhXxtNTRmpV4"
      },
      "source": [
        "## 1.5. Xử lý dữ liệu Datetime"
      ]
    },
    {
      "cell_type": "code",
      "execution_count": 8,
      "metadata": {
        "colab": {
          "base_uri": "https://localhost:8080/"
        },
        "id": "2oCW7OklrVna",
        "outputId": "f358154d-e0bf-4e0e-c777-f029d8c53719"
      },
      "outputs": [
        {
          "name": "stdout",
          "output_type": "stream",
          "text": [
            "   First Name Last Name        Age        Salary  Gender_F  Gender_M  \\\n",
            "ID                                                                     \n",
            "1       John        Doe  25.000000  50000.000000       0.0       1.0   \n",
            "2        Jane     Smith  30.000000  60000.000000       1.0       0.0   \n",
            "3         Bob   Johnson  45.000000  70000.000000       0.0       1.0   \n",
            "4       Alice  Williams  33.000000  80000.000000       1.0       0.0   \n",
            "5       James     Brown  27.000000  55000.000000       0.0       1.0   \n",
            "6       Sarah       Lee  32.181818  65000.000000       1.0       0.0   \n",
            "7     Michael     Davis  39.000000  62272.727273       0.0       1.0   \n",
            "8       Susan    Miller  42.000000  90000.000000       1.0       0.0   \n",
            "9       David    Wilson  28.000000  60000.000000       0.0       1.0   \n",
            "10      Emily     Brown  35.000000  55000.000000       1.0       0.0   \n",
            "\n",
            "    Department_HR  Department_IT  Department_Marketing  Department_Sales  \\\n",
            "ID                                                                         \n",
            "1             0.0            0.0                   0.0               1.0   \n",
            "2             0.0            0.0                   1.0               0.0   \n",
            "3             1.0            0.0                   0.0               0.0   \n",
            "4             0.0            1.0                   0.0               0.0   \n",
            "5             0.0            0.0                   0.0               1.0   \n",
            "6             0.0            0.0                   1.0               0.0   \n",
            "7             1.0            0.0                   0.0               0.0   \n",
            "8             0.0            1.0                   0.0               0.0   \n",
            "9             0.0            0.0                   0.0               1.0   \n",
            "10            0.0            0.0                   1.0               0.0   \n",
            "\n",
            "    month day_of_week  \n",
            "ID                     \n",
            "1       1   Wednesday  \n",
            "2       6      Friday  \n",
            "3       9    Thursday  \n",
            "4       2   Wednesday  \n",
            "5       3      Friday  \n",
            "6      12    Saturday  \n",
            "7       8    Saturday  \n",
            "8      11    Saturday  \n",
            "9       5      Friday  \n",
            "10      4    Saturday  \n"
          ]
        }
      ],
      "source": [
        "# Xử lí dữ liệu datetime\n",
        "## Chuyển cột date thành một đối tượng datetime\n",
        "df['Date of Joining'] = pd.to_datetime(df['Date of Joining'])\n",
        "## extract month and day of week from date column\n",
        "df['month'] = df['Date of Joining'].dt.month\n",
        "df['day_of_week'] = df['Date of Joining'].dt.day_name()\n",
        "## Drop the original date column\n",
        "df=df.drop('Date of Joining', axis=1)\n",
        "print(df)"
      ]
    },
    {
      "cell_type": "markdown",
      "metadata": {
        "id": "Zl09EoWCmvou"
      },
      "source": [
        "## 1.6. Xử lý các giá trị ngoại lai và scaling dữ liệu"
      ]
    },
    {
      "cell_type": "code",
      "execution_count": 9,
      "metadata": {
        "id": "TfHLrlfK9JT8"
      },
      "outputs": [],
      "source": [
        "# Import thư viện xử lý giá trị ngoại lai và scaler dữ liệu\n",
        "from sklearn.preprocessing import RobustScaler, StandardScaler, MinMaxScaler"
      ]
    },
    {
      "cell_type": "code",
      "execution_count": 10,
      "metadata": {
        "colab": {
          "base_uri": "https://localhost:8080/"
        },
        "id": "tlN8mz1X2Lc8",
        "outputId": "30385cd7-7b98-4421-a5ff-2f3481188535"
      },
      "outputs": [
        {
          "name": "stdout",
          "output_type": "stream",
          "text": [
            "[[2.50000000e+01 5.00000000e+04 0.00000000e+00 1.00000000e+00\n",
            "  0.00000000e+00 0.00000000e+00 0.00000000e+00 1.00000000e+00\n",
            "  1.00000000e+00]\n",
            " [3.00000000e+01 6.00000000e+04 1.00000000e+00 0.00000000e+00\n",
            "  0.00000000e+00 0.00000000e+00 1.00000000e+00 0.00000000e+00\n",
            "  6.00000000e+00]\n",
            " [4.50000000e+01 7.00000000e+04 0.00000000e+00 1.00000000e+00\n",
            "  1.00000000e+00 0.00000000e+00 0.00000000e+00 0.00000000e+00\n",
            "  9.00000000e+00]\n",
            " [3.30000000e+01 8.00000000e+04 1.00000000e+00 0.00000000e+00\n",
            "  0.00000000e+00 1.00000000e+00 0.00000000e+00 0.00000000e+00\n",
            "  2.00000000e+00]\n",
            " [2.70000000e+01 5.50000000e+04 0.00000000e+00 1.00000000e+00\n",
            "  0.00000000e+00 0.00000000e+00 0.00000000e+00 1.00000000e+00\n",
            "  3.00000000e+00]\n",
            " [3.21818182e+01 6.50000000e+04 1.00000000e+00 0.00000000e+00\n",
            "  0.00000000e+00 0.00000000e+00 1.00000000e+00 0.00000000e+00\n",
            "  1.20000000e+01]\n",
            " [3.90000000e+01 6.22727273e+04 0.00000000e+00 1.00000000e+00\n",
            "  1.00000000e+00 0.00000000e+00 0.00000000e+00 0.00000000e+00\n",
            "  8.00000000e+00]\n",
            " [4.20000000e+01 9.00000000e+04 1.00000000e+00 0.00000000e+00\n",
            "  0.00000000e+00 1.00000000e+00 0.00000000e+00 0.00000000e+00\n",
            "  1.10000000e+01]\n",
            " [2.80000000e+01 6.00000000e+04 0.00000000e+00 1.00000000e+00\n",
            "  0.00000000e+00 0.00000000e+00 0.00000000e+00 1.00000000e+00\n",
            "  5.00000000e+00]\n",
            " [3.50000000e+01 5.50000000e+04 1.00000000e+00 0.00000000e+00\n",
            "  0.00000000e+00 0.00000000e+00 1.00000000e+00 0.00000000e+00\n",
            "  4.00000000e+00]]\n"
          ]
        }
      ],
      "source": [
        "# Chuẩn bị dữ liệu\n",
        "df_1 = df.drop(['First Name', 'Last Name', 'day_of_week'], axis = 1) #Drop các feature là object\n",
        "array =df_1.values # Array chứa giá trị của df_1\n",
        "print(array)"
      ]
    },
    {
      "cell_type": "markdown",
      "metadata": {
        "id": "rMK3neXwL4AS"
      },
      "source": [
        "### 1.6.1. Xử lý giá trị ngoại lai bằng RobustScaler\n",
        "RobustScaler là một phương pháp chuẩn hóa dữ liệu có khả năng chống lại giá trị ngoại lai (outlier). Phương pháp này hoạt động bằng cách tính toán median (trung vị) và median absolute deviation (MAD) của dữ liệu, sau đó sử dụng các giá trị này để chuẩn hóa dữ liệu.\n",
        "Trong python, ta có thể sử dụng phương pháp RobustScaler bằng cách import thư viện **from sklearn.preprocessing import RobustScaler**.\n"
      ]
    },
    {
      "cell_type": "code",
      "execution_count": 11,
      "metadata": {
        "colab": {
          "base_uri": "https://localhost:8080/"
        },
        "id": "2kpL3c1G5agI",
        "outputId": "44988670-192a-40ff-c970-f61836429182"
      },
      "outputs": [
        {
          "name": "stdout",
          "output_type": "stream",
          "text": [
            "Xử lý outlier bằng RobustScaler:\n",
            "           0         1    2    3    4    5         6         7         8\n",
            "0 -0.799043 -0.890909 -0.5  0.5  0.0  0.0  0.000000  1.333333 -0.818182\n",
            "1 -0.272727 -0.090909  0.5 -0.5  0.0  0.0  1.333333  0.000000  0.090909\n",
            "2  1.306220  0.709091 -0.5  0.5  1.0  0.0  0.000000  0.000000  0.636364\n",
            "3  0.043062  1.509091  0.5 -0.5  0.0  1.0  0.000000  0.000000 -0.636364\n",
            "4 -0.588517 -0.490909 -0.5  0.5  0.0  0.0  0.000000  1.333333 -0.454545\n",
            "5 -0.043062  0.309091  0.5 -0.5  0.0  0.0  1.333333  0.000000  1.181818\n",
            "6  0.674641  0.090909 -0.5  0.5  1.0  0.0  0.000000  0.000000  0.454545\n",
            "7  0.990431  2.309091  0.5 -0.5  0.0  1.0  0.000000  0.000000  1.000000\n",
            "8 -0.483254 -0.090909 -0.5  0.5  0.0  0.0  0.000000  1.333333 -0.090909\n",
            "9  0.253589 -0.490909  0.5 -0.5  0.0  0.0  1.333333  0.000000 -0.272727\n"
          ]
        }
      ],
      "source": [
        "## sử dụng RobustScaler() để loại bỏ những giá trị ngoại lai\n",
        "scaler = RobustScaler()\n",
        "robust_df = scaler.fit_transform(array)\n",
        "robust_df = pd.DataFrame(robust_df)\n",
        "print('Xử lý outlier bằng RobustScaler:\\n', robust_df)"
      ]
    },
    {
      "cell_type": "markdown",
      "metadata": {
        "id": "7kRy8Qv7KxBe"
      },
      "source": [
        "### 1.6.1. Scaling bằng phương pháp Standard deviation\n",
        "Xét trường hợp thuộc tính thứ $j$ có trung bình (mean) là $\\mu_{j}$ và độ lệch chuẩn (standard deviation) $\\sigma_{j}$. Khi đó, $x_{j}^{i}$ của $\\overline{X_i}$ có thể được chuẩn hóa như sau:\n",
        "$$\n",
        "z_{i}^{j}=\\dfrac{x_{i}^{j}-\\mu_{j}}{σ_j}\n",
        "$$\n",
        "Trong python, ta có thể sử dụng phương pháp min-max bằng cách import thư viện **from sklearn.preprocessing import StandardScaler**"
      ]
    },
    {
      "cell_type": "code",
      "execution_count": 12,
      "metadata": {
        "colab": {
          "base_uri": "https://localhost:8080/"
        },
        "id": "vYEQL4088S2x",
        "outputId": "157e7ece-22c6-427c-b9d8-f50b10e27535"
      },
      "outputs": [
        {
          "name": "stdout",
          "output_type": "stream",
          "text": [
            "Chuẩn hóa dữ liệu:\n",
            "           0         1    2    3    4    5         6         7         8\n",
            "ID                                                                      \n",
            "1  -1.369782 -1.264391 -1.0  1.0 -0.5 -0.5 -0.654654  1.527525 -1.420508\n",
            "2  -0.575077 -0.405854  1.0 -1.0 -0.5 -0.5  1.527525 -0.654654 -0.027853\n",
            "3   1.809037  0.452683 -1.0  1.0  2.0 -0.5 -0.654654 -0.654654  0.807740\n",
            "4  -0.098254  1.311220  1.0 -1.0 -0.5  2.0 -0.654654 -0.654654 -1.141977\n",
            "5  -1.051900 -0.835122 -1.0  1.0 -0.5 -0.5 -0.654654  1.527525 -0.863446\n",
            "6  -0.228297  0.023415  1.0 -1.0 -0.5 -0.5  1.527525 -0.654654  1.643333\n",
            "7   0.855391 -0.210732 -1.0  1.0  2.0 -0.5 -0.654654 -0.654654  0.529209\n",
            "8   1.332214  2.169757  1.0 -1.0 -0.5  2.0 -0.654654 -0.654654  1.364802\n",
            "9  -0.892959 -0.405854 -1.0  1.0 -0.5 -0.5 -0.654654  1.527525 -0.306384\n",
            "10  0.219627 -0.835122  1.0 -1.0 -0.5 -0.5  1.527525 -0.654654 -0.584915\n"
          ]
        }
      ],
      "source": [
        "## Chuẩn hóa dữ liệu bằng z-score (standard)\n",
        "scaler = StandardScaler()\n",
        "standard = scaler.fit_transform(array)\n",
        "standard_df = pd.DataFrame(standard, index = df.index)\n",
        "print('Chuẩn hóa dữ liệu:')\n",
        "print(standard_df)\n"
      ]
    },
    {
      "cell_type": "markdown",
      "metadata": {
        "id": "GdLji4mAJims"
      },
      "source": [
        "### 1.6.2. Scaling bằng phương pháp min-max:\n",
        "\n",
        "Xấp xỉ thứ 2 sử dụng min-max scaling để ánh xạ tất cả thuộc tính thành vùng\n",
        "[0,1]. Đặt $min_j$ và $max_j$ là các giá trị nhỏ nhất và lớn nhất của thuộc tính j. Khi đó, $x_{j}^{i}$ của $\\overline{X_i}$ có thể được scale như sau:\n",
        "$$z_{i}^{j}=\\dfrac{x_{i}^{j}-\\min_{j}}{\\max_{j}-\\min_{j}}$$\n",
        "Trong python, ta có thể sử dụng phương pháp min-max bằng cách import thư viện **from sklearn.preprocessing import MinMaxScaler**"
      ]
    },
    {
      "cell_type": "code",
      "execution_count": 13,
      "metadata": {
        "colab": {
          "base_uri": "https://localhost:8080/"
        },
        "id": "L9lLtKOj8xVl",
        "outputId": "de44d31e-59dd-4ddc-9297-7dab43eca89c"
      },
      "outputs": [
        {
          "name": "stdout",
          "output_type": "stream",
          "text": [
            "Scaling dữ liệu bằng pp min-max:\n",
            "            0         1    2    3    4    5    6    7         8\n",
            "ID                                                            \n",
            "1   0.000000  0.000000  0.0  1.0  0.0  0.0  0.0  1.0  0.000000\n",
            "2   0.250000  0.250000  1.0  0.0  0.0  0.0  1.0  0.0  0.454545\n",
            "3   1.000000  0.500000  0.0  1.0  1.0  0.0  0.0  0.0  0.727273\n",
            "4   0.400000  0.750000  1.0  0.0  0.0  1.0  0.0  0.0  0.090909\n",
            "5   0.100000  0.125000  0.0  1.0  0.0  0.0  0.0  1.0  0.181818\n",
            "6   0.359091  0.375000  1.0  0.0  0.0  0.0  1.0  0.0  1.000000\n",
            "7   0.700000  0.306818  0.0  1.0  1.0  0.0  0.0  0.0  0.636364\n",
            "8   0.850000  1.000000  1.0  0.0  0.0  1.0  0.0  0.0  0.909091\n",
            "9   0.150000  0.250000  0.0  1.0  0.0  0.0  0.0  1.0  0.363636\n",
            "10  0.500000  0.125000  1.0  0.0  0.0  0.0  1.0  0.0  0.272727\n"
          ]
        }
      ],
      "source": [
        "## Scale bằng phương pháp min-max\n",
        "scaler = MinMaxScaler()\n",
        "minmax = scaler.fit_transform(array)\n",
        "minmax_df = pd.DataFrame(minmax, index = df.index)\n",
        "print(\"Scaling dữ liệu bằng pp min-max:\\n\", minmax_df)"
      ]
    },
    {
      "cell_type": "markdown",
      "metadata": {
        "id": "jdAqA7xGnAYd"
      },
      "source": [
        "## 1.7. Rời rạc hóa dữ liệu"
      ]
    },
    {
      "cell_type": "markdown",
      "metadata": {
        "id": "P9wfAsDnnDcG"
      },
      "source": [
        "### 1.7.1. equi-width ranges\n",
        "Equi - width ranges là chia các giá trị này thành các khoảng bằng nhau về độ rộng (width) hoặc bin. cụ thể là các bin có độ rộng bằng nhau với mỗi bin được xác định như sau:\n",
        "$$[\\min, min+w-1], [min, min+2w-1],\\ldots [min+kw, max]$$\n",
        "\n",
        "với $w=\\dfrac{(\\max - \\min)}{k}$, $k$ là số bin."
      ]
    },
    {
      "cell_type": "code",
      "execution_count": 14,
      "metadata": {
        "colab": {
          "base_uri": "https://localhost:8080/"
        },
        "id": "xYKZp6x7m7Pw",
        "outputId": "87407a49-cef2-409a-d1f7-516a9c2eb431"
      },
      "outputs": [
        {
          "name": "stdout",
          "output_type": "stream",
          "text": [
            "Rời rạc hóa dữ liệu bằng 10 equi-width ranges:\n",
            "            0         1    2    3    4    5         6         7         8  \\\n",
            "ID                                                                         \n",
            "1  -1.369782 -1.264391 -1.0  1.0 -0.5 -0.5 -0.654654  1.527525 -1.420508   \n",
            "2  -0.575077 -0.405854  1.0 -1.0 -0.5 -0.5  1.527525 -0.654654 -0.027853   \n",
            "3   1.809037  0.452683 -1.0  1.0  2.0 -0.5 -0.654654 -0.654654  0.807740   \n",
            "4  -0.098254  1.311220  1.0 -1.0 -0.5  2.0 -0.654654 -0.654654 -1.141977   \n",
            "5  -1.051900 -0.835122 -1.0  1.0 -0.5 -0.5 -0.654654  1.527525 -0.863446   \n",
            "6  -0.228297  0.023415  1.0 -1.0 -0.5 -0.5  1.527525 -0.654654  1.643333   \n",
            "7   0.855391 -0.210732 -1.0  1.0  2.0 -0.5 -0.654654 -0.654654  0.529209   \n",
            "8   1.332214  2.169757  1.0 -1.0 -0.5  2.0 -0.654654 -0.654654  1.364802   \n",
            "9  -0.892959 -0.405854 -1.0  1.0 -0.5 -0.5 -0.654654  1.527525 -0.306384   \n",
            "10  0.219627 -0.835122  1.0 -1.0 -0.5 -0.5  1.527525 -0.654654 -0.584915   \n",
            "\n",
            "   equi_width_column0  \n",
            "ID                     \n",
            "1    (-1.373, -1.052]  \n",
            "2    (-0.734, -0.416]  \n",
            "3      (1.491, 1.809]  \n",
            "4     (-0.0983, 0.22]  \n",
            "5    (-1.373, -1.052]  \n",
            "6   (-0.416, -0.0983]  \n",
            "7      (0.538, 0.855]  \n",
            "8      (1.173, 1.491]  \n",
            "9    (-1.052, -0.734]  \n",
            "10    (-0.0983, 0.22]  \n"
          ]
        }
      ],
      "source": [
        "# 10 equi-width ranges: dùng hàm pd.cut()\n",
        "df_2 = standard_df.copy()\n",
        "df_2['equi_width_column0'] = pd.cut(x=df_2[0], bins = 10)\n",
        "print('Rời rạc hóa dữ liệu bằng 10 equi-width ranges:\\n', df_2)"
      ]
    },
    {
      "cell_type": "markdown",
      "metadata": {
        "id": "5dNrjkaQn84X"
      },
      "source": [
        "### 1.7.2. equi-depth ranges\n",
        " Trong trường hợp này, các vùng được được chọn sao cho mỗi vùng có số các bản ghi bằng nhau. Một thuộc tính có thể được chia thành các vùng equi-depth bằng việc sắp xếp nó đầu tiên và sau đó việc lựa chọn các điểm phân chia trong giá trị thuộc tính được sắp xếp, sao cho mỗi vùng chứa số các bản ghi bằng nhau."
      ]
    },
    {
      "cell_type": "code",
      "execution_count": 15,
      "metadata": {
        "colab": {
          "base_uri": "https://localhost:8080/"
        },
        "id": "QurB910GoA3F",
        "outputId": "61a1b223-1cf3-4713-91d8-d6c5e2904628"
      },
      "outputs": [
        {
          "name": "stdout",
          "output_type": "stream",
          "text": [
            "Rời rạc hóa dữ liệu bằng 10 equi-depth ranges:\n",
            "            0         1    2    3    4    5         6         7         8  \\\n",
            "ID                                                                         \n",
            "1  -1.369782 -1.264391 -1.0  1.0 -0.5 -0.5 -0.654654  1.527525 -1.420508   \n",
            "2  -0.575077 -0.405854  1.0 -1.0 -0.5 -0.5  1.527525 -0.654654 -0.027853   \n",
            "3   1.809037  0.452683 -1.0  1.0  2.0 -0.5 -0.654654 -0.654654  0.807740   \n",
            "4  -0.098254  1.311220  1.0 -1.0 -0.5  2.0 -0.654654 -0.654654 -1.141977   \n",
            "5  -1.051900 -0.835122 -1.0  1.0 -0.5 -0.5 -0.654654  1.527525 -0.863446   \n",
            "6  -0.228297  0.023415  1.0 -1.0 -0.5 -0.5  1.527525 -0.654654  1.643333   \n",
            "7   0.855391 -0.210732 -1.0  1.0  2.0 -0.5 -0.654654 -0.654654  0.529209   \n",
            "8   1.332214  2.169757  1.0 -1.0 -0.5  2.0 -0.654654 -0.654654  1.364802   \n",
            "9  -0.892959 -0.405854 -1.0  1.0 -0.5 -0.5 -0.654654  1.527525 -0.306384   \n",
            "10  0.219627 -0.835122  1.0 -1.0 -0.5 -0.5  1.527525 -0.654654 -0.584915   \n",
            "\n",
            "   equi_depth_column0  \n",
            "ID                     \n",
            "1    (-1.371, -1.084]  \n",
            "2     (-0.67, -0.367]  \n",
            "3       (1.38, 1.809]  \n",
            "4    (-0.163, 0.0289]  \n",
            "5    (-1.084, -0.925]  \n",
            "6    (-0.367, -0.163]  \n",
            "7       (0.41, 0.951]  \n",
            "8       (0.951, 1.38]  \n",
            "9     (-0.925, -0.67]  \n",
            "10     (0.0289, 0.41]  \n"
          ]
        }
      ],
      "source": [
        "# 10 equi-depth ranges: dùng hàm pd.qcut()\n",
        "df_3 = standard_df.copy()\n",
        "df_3['equi_depth_column0'] = pd.qcut(df_3[0], q=10)\n",
        "print('Rời rạc hóa dữ liệu bằng 10 equi-depth ranges:\\n', df_3)"
      ]
    },
    {
      "cell_type": "markdown",
      "metadata": {
        "id": "Eg1PXq-PoUuS"
      },
      "source": [
        "# II. Bài tập vận dụng"
      ]
    },
    {
      "cell_type": "code",
      "execution_count": 16,
      "metadata": {
        "id": "gwnqtbj6obW8"
      },
      "outputs": [],
      "source": [
        "# Cài đặt thư viện\n",
        "import pandas as pd\n",
        "import numpy as np\n",
        "from sklearn.preprocessing import StandardScaler, KBinsDiscretizer\n",
        "from sklearn.impute import SimpleImputer"
      ]
    },
    {
      "cell_type": "markdown",
      "metadata": {
        "id": "sfDdaPXcfepd"
      },
      "source": [
        "## 2.1. Load dataset"
      ]
    },
    {
      "cell_type": "code",
      "execution_count": 17,
      "metadata": {
        "colab": {
          "base_uri": "https://localhost:8080/",
          "height": 423
        },
        "id": "GGuHHZHTpEUi",
        "outputId": "4d1f6657-5c73-4fe1-a0d2-e75848ceb488"
      },
      "outputs": [
        {
          "data": {
            "application/vnd.google.colaboratory.intrinsic+json": {
              "type": "dataframe"
            },
            "text/html": [
              "\n",
              "  <div id=\"df-7d673f9c-1ba5-427f-a137-b3e160ab7d69\" class=\"colab-df-container\">\n",
              "    <div>\n",
              "<style scoped>\n",
              "    .dataframe tbody tr th:only-of-type {\n",
              "        vertical-align: middle;\n",
              "    }\n",
              "\n",
              "    .dataframe tbody tr th {\n",
              "        vertical-align: top;\n",
              "    }\n",
              "\n",
              "    .dataframe thead th {\n",
              "        text-align: right;\n",
              "    }\n",
              "</style>\n",
              "<table border=\"1\" class=\"dataframe\">\n",
              "  <thead>\n",
              "    <tr style=\"text-align: right;\">\n",
              "      <th></th>\n",
              "      <th>0</th>\n",
              "      <th>1</th>\n",
              "      <th>2</th>\n",
              "      <th>3</th>\n",
              "      <th>4</th>\n",
              "      <th>5</th>\n",
              "      <th>6</th>\n",
              "      <th>7</th>\n",
              "      <th>8</th>\n",
              "      <th>9</th>\n",
              "      <th>...</th>\n",
              "      <th>270</th>\n",
              "      <th>271</th>\n",
              "      <th>272</th>\n",
              "      <th>273</th>\n",
              "      <th>274</th>\n",
              "      <th>275</th>\n",
              "      <th>276</th>\n",
              "      <th>277</th>\n",
              "      <th>278</th>\n",
              "      <th>279</th>\n",
              "    </tr>\n",
              "  </thead>\n",
              "  <tbody>\n",
              "    <tr>\n",
              "      <th>0</th>\n",
              "      <td>75</td>\n",
              "      <td>0</td>\n",
              "      <td>190</td>\n",
              "      <td>80</td>\n",
              "      <td>91</td>\n",
              "      <td>193</td>\n",
              "      <td>371</td>\n",
              "      <td>174</td>\n",
              "      <td>121</td>\n",
              "      <td>-16</td>\n",
              "      <td>...</td>\n",
              "      <td>0.0</td>\n",
              "      <td>9.0</td>\n",
              "      <td>-0.9</td>\n",
              "      <td>0.0</td>\n",
              "      <td>0.0</td>\n",
              "      <td>0.9</td>\n",
              "      <td>2.9</td>\n",
              "      <td>23.3</td>\n",
              "      <td>49.4</td>\n",
              "      <td>8</td>\n",
              "    </tr>\n",
              "    <tr>\n",
              "      <th>1</th>\n",
              "      <td>56</td>\n",
              "      <td>1</td>\n",
              "      <td>165</td>\n",
              "      <td>64</td>\n",
              "      <td>81</td>\n",
              "      <td>174</td>\n",
              "      <td>401</td>\n",
              "      <td>149</td>\n",
              "      <td>39</td>\n",
              "      <td>25</td>\n",
              "      <td>...</td>\n",
              "      <td>0.0</td>\n",
              "      <td>8.5</td>\n",
              "      <td>0.0</td>\n",
              "      <td>0.0</td>\n",
              "      <td>0.0</td>\n",
              "      <td>0.2</td>\n",
              "      <td>2.1</td>\n",
              "      <td>20.4</td>\n",
              "      <td>38.8</td>\n",
              "      <td>6</td>\n",
              "    </tr>\n",
              "    <tr>\n",
              "      <th>2</th>\n",
              "      <td>54</td>\n",
              "      <td>0</td>\n",
              "      <td>172</td>\n",
              "      <td>95</td>\n",
              "      <td>138</td>\n",
              "      <td>163</td>\n",
              "      <td>386</td>\n",
              "      <td>185</td>\n",
              "      <td>102</td>\n",
              "      <td>96</td>\n",
              "      <td>...</td>\n",
              "      <td>0.0</td>\n",
              "      <td>9.5</td>\n",
              "      <td>-2.4</td>\n",
              "      <td>0.0</td>\n",
              "      <td>0.0</td>\n",
              "      <td>0.3</td>\n",
              "      <td>3.4</td>\n",
              "      <td>12.3</td>\n",
              "      <td>49.0</td>\n",
              "      <td>10</td>\n",
              "    </tr>\n",
              "    <tr>\n",
              "      <th>3</th>\n",
              "      <td>55</td>\n",
              "      <td>0</td>\n",
              "      <td>175</td>\n",
              "      <td>94</td>\n",
              "      <td>100</td>\n",
              "      <td>202</td>\n",
              "      <td>380</td>\n",
              "      <td>179</td>\n",
              "      <td>143</td>\n",
              "      <td>28</td>\n",
              "      <td>...</td>\n",
              "      <td>0.0</td>\n",
              "      <td>12.2</td>\n",
              "      <td>-2.2</td>\n",
              "      <td>0.0</td>\n",
              "      <td>0.0</td>\n",
              "      <td>0.4</td>\n",
              "      <td>2.6</td>\n",
              "      <td>34.6</td>\n",
              "      <td>61.6</td>\n",
              "      <td>1</td>\n",
              "    </tr>\n",
              "    <tr>\n",
              "      <th>4</th>\n",
              "      <td>75</td>\n",
              "      <td>0</td>\n",
              "      <td>190</td>\n",
              "      <td>80</td>\n",
              "      <td>88</td>\n",
              "      <td>181</td>\n",
              "      <td>360</td>\n",
              "      <td>177</td>\n",
              "      <td>103</td>\n",
              "      <td>-16</td>\n",
              "      <td>...</td>\n",
              "      <td>0.0</td>\n",
              "      <td>13.1</td>\n",
              "      <td>-3.6</td>\n",
              "      <td>0.0</td>\n",
              "      <td>0.0</td>\n",
              "      <td>-0.1</td>\n",
              "      <td>3.9</td>\n",
              "      <td>25.4</td>\n",
              "      <td>62.8</td>\n",
              "      <td>7</td>\n",
              "    </tr>\n",
              "    <tr>\n",
              "      <th>...</th>\n",
              "      <td>...</td>\n",
              "      <td>...</td>\n",
              "      <td>...</td>\n",
              "      <td>...</td>\n",
              "      <td>...</td>\n",
              "      <td>...</td>\n",
              "      <td>...</td>\n",
              "      <td>...</td>\n",
              "      <td>...</td>\n",
              "      <td>...</td>\n",
              "      <td>...</td>\n",
              "      <td>...</td>\n",
              "      <td>...</td>\n",
              "      <td>...</td>\n",
              "      <td>...</td>\n",
              "      <td>...</td>\n",
              "      <td>...</td>\n",
              "      <td>...</td>\n",
              "      <td>...</td>\n",
              "      <td>...</td>\n",
              "      <td>...</td>\n",
              "    </tr>\n",
              "    <tr>\n",
              "      <th>447</th>\n",
              "      <td>53</td>\n",
              "      <td>1</td>\n",
              "      <td>160</td>\n",
              "      <td>70</td>\n",
              "      <td>80</td>\n",
              "      <td>199</td>\n",
              "      <td>382</td>\n",
              "      <td>154</td>\n",
              "      <td>117</td>\n",
              "      <td>-37</td>\n",
              "      <td>...</td>\n",
              "      <td>0.0</td>\n",
              "      <td>4.3</td>\n",
              "      <td>-5.0</td>\n",
              "      <td>0.0</td>\n",
              "      <td>0.0</td>\n",
              "      <td>0.7</td>\n",
              "      <td>0.6</td>\n",
              "      <td>-4.4</td>\n",
              "      <td>-0.5</td>\n",
              "      <td>1</td>\n",
              "    </tr>\n",
              "    <tr>\n",
              "      <th>448</th>\n",
              "      <td>37</td>\n",
              "      <td>0</td>\n",
              "      <td>190</td>\n",
              "      <td>85</td>\n",
              "      <td>100</td>\n",
              "      <td>137</td>\n",
              "      <td>361</td>\n",
              "      <td>201</td>\n",
              "      <td>73</td>\n",
              "      <td>86</td>\n",
              "      <td>...</td>\n",
              "      <td>0.0</td>\n",
              "      <td>15.6</td>\n",
              "      <td>-1.6</td>\n",
              "      <td>0.0</td>\n",
              "      <td>0.0</td>\n",
              "      <td>0.4</td>\n",
              "      <td>2.4</td>\n",
              "      <td>38.0</td>\n",
              "      <td>62.4</td>\n",
              "      <td>10</td>\n",
              "    </tr>\n",
              "    <tr>\n",
              "      <th>449</th>\n",
              "      <td>36</td>\n",
              "      <td>0</td>\n",
              "      <td>166</td>\n",
              "      <td>68</td>\n",
              "      <td>108</td>\n",
              "      <td>176</td>\n",
              "      <td>365</td>\n",
              "      <td>194</td>\n",
              "      <td>116</td>\n",
              "      <td>-85</td>\n",
              "      <td>...</td>\n",
              "      <td>0.0</td>\n",
              "      <td>16.3</td>\n",
              "      <td>-28.6</td>\n",
              "      <td>0.0</td>\n",
              "      <td>0.0</td>\n",
              "      <td>1.5</td>\n",
              "      <td>1.0</td>\n",
              "      <td>-44.2</td>\n",
              "      <td>-33.2</td>\n",
              "      <td>2</td>\n",
              "    </tr>\n",
              "    <tr>\n",
              "      <th>450</th>\n",
              "      <td>32</td>\n",
              "      <td>1</td>\n",
              "      <td>155</td>\n",
              "      <td>55</td>\n",
              "      <td>93</td>\n",
              "      <td>106</td>\n",
              "      <td>386</td>\n",
              "      <td>218</td>\n",
              "      <td>63</td>\n",
              "      <td>54</td>\n",
              "      <td>...</td>\n",
              "      <td>-0.4</td>\n",
              "      <td>12.0</td>\n",
              "      <td>-0.7</td>\n",
              "      <td>0.0</td>\n",
              "      <td>0.0</td>\n",
              "      <td>0.5</td>\n",
              "      <td>2.4</td>\n",
              "      <td>25.0</td>\n",
              "      <td>46.6</td>\n",
              "      <td>1</td>\n",
              "    </tr>\n",
              "    <tr>\n",
              "      <th>451</th>\n",
              "      <td>78</td>\n",
              "      <td>1</td>\n",
              "      <td>160</td>\n",
              "      <td>70</td>\n",
              "      <td>79</td>\n",
              "      <td>127</td>\n",
              "      <td>364</td>\n",
              "      <td>138</td>\n",
              "      <td>78</td>\n",
              "      <td>28</td>\n",
              "      <td>...</td>\n",
              "      <td>0.0</td>\n",
              "      <td>10.4</td>\n",
              "      <td>-1.8</td>\n",
              "      <td>0.0</td>\n",
              "      <td>0.0</td>\n",
              "      <td>0.5</td>\n",
              "      <td>1.6</td>\n",
              "      <td>21.3</td>\n",
              "      <td>32.8</td>\n",
              "      <td>1</td>\n",
              "    </tr>\n",
              "  </tbody>\n",
              "</table>\n",
              "<p>452 rows × 280 columns</p>\n",
              "</div>\n",
              "    <div class=\"colab-df-buttons\">\n",
              "\n",
              "  <div class=\"colab-df-container\">\n",
              "    <button class=\"colab-df-convert\" onclick=\"convertToInteractive('df-7d673f9c-1ba5-427f-a137-b3e160ab7d69')\"\n",
              "            title=\"Convert this dataframe to an interactive table.\"\n",
              "            style=\"display:none;\">\n",
              "\n",
              "  <svg xmlns=\"http://www.w3.org/2000/svg\" height=\"24px\" viewBox=\"0 -960 960 960\">\n",
              "    <path d=\"M120-120v-720h720v720H120Zm60-500h600v-160H180v160Zm220 220h160v-160H400v160Zm0 220h160v-160H400v160ZM180-400h160v-160H180v160Zm440 0h160v-160H620v160ZM180-180h160v-160H180v160Zm440 0h160v-160H620v160Z\"/>\n",
              "  </svg>\n",
              "    </button>\n",
              "\n",
              "  <style>\n",
              "    .colab-df-container {\n",
              "      display:flex;\n",
              "      gap: 12px;\n",
              "    }\n",
              "\n",
              "    .colab-df-convert {\n",
              "      background-color: #E8F0FE;\n",
              "      border: none;\n",
              "      border-radius: 50%;\n",
              "      cursor: pointer;\n",
              "      display: none;\n",
              "      fill: #1967D2;\n",
              "      height: 32px;\n",
              "      padding: 0 0 0 0;\n",
              "      width: 32px;\n",
              "    }\n",
              "\n",
              "    .colab-df-convert:hover {\n",
              "      background-color: #E2EBFA;\n",
              "      box-shadow: 0px 1px 2px rgba(60, 64, 67, 0.3), 0px 1px 3px 1px rgba(60, 64, 67, 0.15);\n",
              "      fill: #174EA6;\n",
              "    }\n",
              "\n",
              "    .colab-df-buttons div {\n",
              "      margin-bottom: 4px;\n",
              "    }\n",
              "\n",
              "    [theme=dark] .colab-df-convert {\n",
              "      background-color: #3B4455;\n",
              "      fill: #D2E3FC;\n",
              "    }\n",
              "\n",
              "    [theme=dark] .colab-df-convert:hover {\n",
              "      background-color: #434B5C;\n",
              "      box-shadow: 0px 1px 3px 1px rgba(0, 0, 0, 0.15);\n",
              "      filter: drop-shadow(0px 1px 2px rgba(0, 0, 0, 0.3));\n",
              "      fill: #FFFFFF;\n",
              "    }\n",
              "  </style>\n",
              "\n",
              "    <script>\n",
              "      const buttonEl =\n",
              "        document.querySelector('#df-7d673f9c-1ba5-427f-a137-b3e160ab7d69 button.colab-df-convert');\n",
              "      buttonEl.style.display =\n",
              "        google.colab.kernel.accessAllowed ? 'block' : 'none';\n",
              "\n",
              "      async function convertToInteractive(key) {\n",
              "        const element = document.querySelector('#df-7d673f9c-1ba5-427f-a137-b3e160ab7d69');\n",
              "        const dataTable =\n",
              "          await google.colab.kernel.invokeFunction('convertToInteractive',\n",
              "                                                    [key], {});\n",
              "        if (!dataTable) return;\n",
              "\n",
              "        const docLinkHtml = 'Like what you see? Visit the ' +\n",
              "          '<a target=\"_blank\" href=https://colab.research.google.com/notebooks/data_table.ipynb>data table notebook</a>'\n",
              "          + ' to learn more about interactive tables.';\n",
              "        element.innerHTML = '';\n",
              "        dataTable['output_type'] = 'display_data';\n",
              "        await google.colab.output.renderOutput(dataTable, element);\n",
              "        const docLink = document.createElement('div');\n",
              "        docLink.innerHTML = docLinkHtml;\n",
              "        element.appendChild(docLink);\n",
              "      }\n",
              "    </script>\n",
              "  </div>\n",
              "\n",
              "\n",
              "<div id=\"df-a8ee3c2a-c62e-4ce1-af4d-90dceebf101c\">\n",
              "  <button class=\"colab-df-quickchart\" onclick=\"quickchart('df-a8ee3c2a-c62e-4ce1-af4d-90dceebf101c')\"\n",
              "            title=\"Suggest charts\"\n",
              "            style=\"display:none;\">\n",
              "\n",
              "<svg xmlns=\"http://www.w3.org/2000/svg\" height=\"24px\"viewBox=\"0 0 24 24\"\n",
              "     width=\"24px\">\n",
              "    <g>\n",
              "        <path d=\"M19 3H5c-1.1 0-2 .9-2 2v14c0 1.1.9 2 2 2h14c1.1 0 2-.9 2-2V5c0-1.1-.9-2-2-2zM9 17H7v-7h2v7zm4 0h-2V7h2v10zm4 0h-2v-4h2v4z\"/>\n",
              "    </g>\n",
              "</svg>\n",
              "  </button>\n",
              "\n",
              "<style>\n",
              "  .colab-df-quickchart {\n",
              "      --bg-color: #E8F0FE;\n",
              "      --fill-color: #1967D2;\n",
              "      --hover-bg-color: #E2EBFA;\n",
              "      --hover-fill-color: #174EA6;\n",
              "      --disabled-fill-color: #AAA;\n",
              "      --disabled-bg-color: #DDD;\n",
              "  }\n",
              "\n",
              "  [theme=dark] .colab-df-quickchart {\n",
              "      --bg-color: #3B4455;\n",
              "      --fill-color: #D2E3FC;\n",
              "      --hover-bg-color: #434B5C;\n",
              "      --hover-fill-color: #FFFFFF;\n",
              "      --disabled-bg-color: #3B4455;\n",
              "      --disabled-fill-color: #666;\n",
              "  }\n",
              "\n",
              "  .colab-df-quickchart {\n",
              "    background-color: var(--bg-color);\n",
              "    border: none;\n",
              "    border-radius: 50%;\n",
              "    cursor: pointer;\n",
              "    display: none;\n",
              "    fill: var(--fill-color);\n",
              "    height: 32px;\n",
              "    padding: 0;\n",
              "    width: 32px;\n",
              "  }\n",
              "\n",
              "  .colab-df-quickchart:hover {\n",
              "    background-color: var(--hover-bg-color);\n",
              "    box-shadow: 0 1px 2px rgba(60, 64, 67, 0.3), 0 1px 3px 1px rgba(60, 64, 67, 0.15);\n",
              "    fill: var(--button-hover-fill-color);\n",
              "  }\n",
              "\n",
              "  .colab-df-quickchart-complete:disabled,\n",
              "  .colab-df-quickchart-complete:disabled:hover {\n",
              "    background-color: var(--disabled-bg-color);\n",
              "    fill: var(--disabled-fill-color);\n",
              "    box-shadow: none;\n",
              "  }\n",
              "\n",
              "  .colab-df-spinner {\n",
              "    border: 2px solid var(--fill-color);\n",
              "    border-color: transparent;\n",
              "    border-bottom-color: var(--fill-color);\n",
              "    animation:\n",
              "      spin 1s steps(1) infinite;\n",
              "  }\n",
              "\n",
              "  @keyframes spin {\n",
              "    0% {\n",
              "      border-color: transparent;\n",
              "      border-bottom-color: var(--fill-color);\n",
              "      border-left-color: var(--fill-color);\n",
              "    }\n",
              "    20% {\n",
              "      border-color: transparent;\n",
              "      border-left-color: var(--fill-color);\n",
              "      border-top-color: var(--fill-color);\n",
              "    }\n",
              "    30% {\n",
              "      border-color: transparent;\n",
              "      border-left-color: var(--fill-color);\n",
              "      border-top-color: var(--fill-color);\n",
              "      border-right-color: var(--fill-color);\n",
              "    }\n",
              "    40% {\n",
              "      border-color: transparent;\n",
              "      border-right-color: var(--fill-color);\n",
              "      border-top-color: var(--fill-color);\n",
              "    }\n",
              "    60% {\n",
              "      border-color: transparent;\n",
              "      border-right-color: var(--fill-color);\n",
              "    }\n",
              "    80% {\n",
              "      border-color: transparent;\n",
              "      border-right-color: var(--fill-color);\n",
              "      border-bottom-color: var(--fill-color);\n",
              "    }\n",
              "    90% {\n",
              "      border-color: transparent;\n",
              "      border-bottom-color: var(--fill-color);\n",
              "    }\n",
              "  }\n",
              "</style>\n",
              "\n",
              "  <script>\n",
              "    async function quickchart(key) {\n",
              "      const quickchartButtonEl =\n",
              "        document.querySelector('#' + key + ' button');\n",
              "      quickchartButtonEl.disabled = true;  // To prevent multiple clicks.\n",
              "      quickchartButtonEl.classList.add('colab-df-spinner');\n",
              "      try {\n",
              "        const charts = await google.colab.kernel.invokeFunction(\n",
              "            'suggestCharts', [key], {});\n",
              "      } catch (error) {\n",
              "        console.error('Error during call to suggestCharts:', error);\n",
              "      }\n",
              "      quickchartButtonEl.classList.remove('colab-df-spinner');\n",
              "      quickchartButtonEl.classList.add('colab-df-quickchart-complete');\n",
              "    }\n",
              "    (() => {\n",
              "      let quickchartButtonEl =\n",
              "        document.querySelector('#df-a8ee3c2a-c62e-4ce1-af4d-90dceebf101c button');\n",
              "      quickchartButtonEl.style.display =\n",
              "        google.colab.kernel.accessAllowed ? 'block' : 'none';\n",
              "    })();\n",
              "  </script>\n",
              "</div>\n",
              "\n",
              "    </div>\n",
              "  </div>\n"
            ],
            "text/plain": [
              "     0    1    2    3    4    5    6    7    8    9    ...  270   271   272  \\\n",
              "0     75    0  190   80   91  193  371  174  121  -16  ...  0.0   9.0  -0.9   \n",
              "1     56    1  165   64   81  174  401  149   39   25  ...  0.0   8.5   0.0   \n",
              "2     54    0  172   95  138  163  386  185  102   96  ...  0.0   9.5  -2.4   \n",
              "3     55    0  175   94  100  202  380  179  143   28  ...  0.0  12.2  -2.2   \n",
              "4     75    0  190   80   88  181  360  177  103  -16  ...  0.0  13.1  -3.6   \n",
              "..   ...  ...  ...  ...  ...  ...  ...  ...  ...  ...  ...  ...   ...   ...   \n",
              "447   53    1  160   70   80  199  382  154  117  -37  ...  0.0   4.3  -5.0   \n",
              "448   37    0  190   85  100  137  361  201   73   86  ...  0.0  15.6  -1.6   \n",
              "449   36    0  166   68  108  176  365  194  116  -85  ...  0.0  16.3 -28.6   \n",
              "450   32    1  155   55   93  106  386  218   63   54  ... -0.4  12.0  -0.7   \n",
              "451   78    1  160   70   79  127  364  138   78   28  ...  0.0  10.4  -1.8   \n",
              "\n",
              "     273  274  275  276   277   278  279  \n",
              "0    0.0  0.0  0.9  2.9  23.3  49.4    8  \n",
              "1    0.0  0.0  0.2  2.1  20.4  38.8    6  \n",
              "2    0.0  0.0  0.3  3.4  12.3  49.0   10  \n",
              "3    0.0  0.0  0.4  2.6  34.6  61.6    1  \n",
              "4    0.0  0.0 -0.1  3.9  25.4  62.8    7  \n",
              "..   ...  ...  ...  ...   ...   ...  ...  \n",
              "447  0.0  0.0  0.7  0.6  -4.4  -0.5    1  \n",
              "448  0.0  0.0  0.4  2.4  38.0  62.4   10  \n",
              "449  0.0  0.0  1.5  1.0 -44.2 -33.2    2  \n",
              "450  0.0  0.0  0.5  2.4  25.0  46.6    1  \n",
              "451  0.0  0.0  0.5  1.6  21.3  32.8    1  \n",
              "\n",
              "[452 rows x 280 columns]"
            ]
          },
          "metadata": {},
          "output_type": "display_data"
        }
      ],
      "source": [
        "def read_dataset(path):\n",
        "    # Todo: read_csv from a path and return a DataFrame\n",
        "    df = pd.read_csv(path, delimiter=',', header=None)\n",
        "    display(df)\n",
        "    # display(df.describe())\n",
        "    return df\n",
        "PATH = \"/content/drive/MyDrive/Colab Notebooks/Data_Mining/Lab01/\" # Path to your file\n",
        "\n",
        "df = read_dataset(os.path.join(PATH, \"arrhythmia.data\"))\n"
      ]
    },
    {
      "cell_type": "code",
      "execution_count": 18,
      "metadata": {
        "colab": {
          "base_uri": "https://localhost:8080/"
        },
        "id": "8Hoqum4m3er2",
        "outputId": "3dbe5354-cae3-4ff3-c109-e88f044a4af7"
      },
      "outputs": [
        {
          "data": {
            "text/plain": [
              "0        int64\n",
              "1        int64\n",
              "2        int64\n",
              "3        int64\n",
              "4        int64\n",
              "        ...   \n",
              "275    float64\n",
              "276    float64\n",
              "277    float64\n",
              "278    float64\n",
              "279      int64\n",
              "Length: 280, dtype: object"
            ]
          },
          "execution_count": 18,
          "metadata": {},
          "output_type": "execute_result"
        }
      ],
      "source": [
        "df.dtypes"
      ]
    },
    {
      "cell_type": "code",
      "execution_count": 19,
      "metadata": {
        "colab": {
          "base_uri": "https://localhost:8080/"
        },
        "id": "hav80Hml4RzR",
        "outputId": "4ec63d7b-26e5-4f87-879e-53895a622e78"
      },
      "outputs": [
        {
          "name": "stdout",
          "output_type": "stream",
          "text": [
            "<class 'pandas.core.frame.DataFrame'>\n",
            "RangeIndex: 452 entries, 0 to 451\n",
            "Columns: 280 entries, 0 to 279\n",
            "dtypes: float64(120), int64(155), object(5)\n",
            "memory usage: 988.9+ KB\n"
          ]
        }
      ],
      "source": [
        "df.info()"
      ]
    },
    {
      "cell_type": "code",
      "execution_count": 20,
      "metadata": {
        "colab": {
          "base_uri": "https://localhost:8080/"
        },
        "id": "xWJ82xHLC4ZO",
        "outputId": "e6ea4fa4-c41b-48dc-9073-11f7c8169e72"
      },
      "outputs": [
        {
          "name": "stdout",
          "output_type": "stream",
          "text": [
            "      0  1    2   3    4\n",
            "0    75  0  190  80   91\n",
            "1    56  1  165  64   81\n",
            "2    54  0  172  95  138\n",
            "3    55  0  175  94  100\n",
            "4    75  0  190  80   88\n",
            "..   .. ..  ...  ..  ...\n",
            "447  53  1  160  70   80\n",
            "448  37  0  190  85  100\n",
            "449  36  0  166  68  108\n",
            "450  32  1  155  55   93\n",
            "451  78  1  160  70   79\n",
            "\n",
            "[452 rows x 5 columns]\n"
          ]
        }
      ],
      "source": [
        "# lọc lấy 5 cột đầu\n",
        "df = df.iloc[:, :5]\n",
        "print(df)"
      ]
    },
    {
      "cell_type": "markdown",
      "metadata": {
        "id": "fbcLkHpPqRy5"
      },
      "source": [
        "## 2.2. Xử lý các giá trị missing"
      ]
    },
    {
      "cell_type": "code",
      "execution_count": 21,
      "metadata": {
        "colab": {
          "base_uri": "https://localhost:8080/"
        },
        "id": "uVvC1pgmyWv7",
        "outputId": "d2aba1f1-2173-4e3e-a1a0-43a7ac3b7430"
      },
      "outputs": [
        {
          "name": "stdout",
          "output_type": "stream",
          "text": [
            "0    0\n",
            "1    0\n",
            "2    0\n",
            "3    0\n",
            "4    0\n",
            "dtype: int64\n"
          ]
        }
      ],
      "source": [
        "print(df.isnull().sum())"
      ]
    },
    {
      "cell_type": "code",
      "execution_count": 22,
      "metadata": {
        "id": "Ho58cAMwzon9"
      },
      "outputs": [],
      "source": [
        "def preprocessing_data(df):\n",
        "    # --- (Optional) Drop null datapoints or fill missing data\n",
        "    # print(\"Sample size:\", len(df))\n",
        "    # df = df.dropna()\n",
        "    # print(\"Not null sample size:\", len(df))\n",
        "    # Keep your data the same if you dont want to customize it\n",
        "    df = df\n",
        "    return df"
      ]
    },
    {
      "cell_type": "code",
      "execution_count": 23,
      "metadata": {
        "id": "VQTooum9zxJ1"
      },
      "outputs": [],
      "source": [
        "df = preprocessing_data(df.copy())"
      ]
    },
    {
      "cell_type": "markdown",
      "metadata": {
        "id": "9ha7UPlJqeAU"
      },
      "source": [
        "## 2.3. Xử lý các giá trị giống nhau"
      ]
    },
    {
      "cell_type": "code",
      "execution_count": 24,
      "metadata": {
        "colab": {
          "base_uri": "https://localhost:8080/"
        },
        "id": "SJ0ywcF8qZlV",
        "outputId": "b53a7d22-f5e8-450f-9697-b61e11c7cff7"
      },
      "outputs": [
        {
          "name": "stdout",
          "output_type": "stream",
          "text": [
            "1\n"
          ]
        }
      ],
      "source": [
        "#  Kiểm tra giá trị duplicated\n",
        "print(df.duplicated().sum())\n",
        "df = df.drop_duplicates(df)\n"
      ]
    },
    {
      "cell_type": "markdown",
      "metadata": {
        "id": "dCSUV9WDqryS"
      },
      "source": [
        "## 2.4. Xử lý giá trị ngoại lai và chuẩn hóa dữ liệu"
      ]
    },
    {
      "cell_type": "code",
      "execution_count": 25,
      "metadata": {
        "colab": {
          "base_uri": "https://localhost:8080/"
        },
        "id": "lB9474Ch5EzU",
        "outputId": "9f26a1e5-305b-4cc2-e48f-11a75a5a3919"
      },
      "outputs": [
        {
          "name": "stdout",
          "output_type": "stream",
          "text": [
            "      0  1    2   3    4\n",
            "0    75  0  190  80   91\n",
            "1    56  1  165  64   81\n",
            "2    54  0  172  95  138\n",
            "3    55  0  175  94  100\n",
            "4    75  0  190  80   88\n",
            "..   .. ..  ...  ..  ...\n",
            "447  53  1  160  70   80\n",
            "448  37  0  190  85  100\n",
            "449  36  0  166  68  108\n",
            "450  32  1  155  55   93\n",
            "451  78  1  160  70   79\n",
            "\n",
            "[451 rows x 5 columns]\n"
          ]
        }
      ],
      "source": [
        "# Get the data types of each column\n",
        "dtypes = df.dtypes\n",
        "\n",
        "# Select the columns with dtype 'object'\n",
        "object_cols = dtypes[dtypes == 'object'].index.tolist()\n",
        "\n",
        "# Drop the selected columns\n",
        "df_1 = df.drop(object_cols, axis=1)\n",
        "print(df_1)"
      ]
    },
    {
      "cell_type": "code",
      "execution_count": 26,
      "metadata": {
        "colab": {
          "base_uri": "https://localhost:8080/"
        },
        "id": "QbpvvXHfqiL0",
        "outputId": "4c1066e4-df51-4042-dcd1-6c4500d42854"
      },
      "outputs": [
        {
          "name": "stdout",
          "output_type": "stream",
          "text": [
            "Chuẩn hóa dữ liệu bằng z-score:\n",
            "             0         1         2         3         4\n",
            "0    1.733481 -1.105294  0.640014  0.721562  0.134660\n",
            "1    0.579488  0.904737 -0.032633 -0.247865 -0.516269\n",
            "2    0.458015 -1.105294  0.155708  1.630399  3.194030\n",
            "3    0.518752 -1.105294  0.236426  1.569810  0.720497\n",
            "4    1.733481 -1.105294  0.640014  0.721562 -0.060619\n",
            "..        ...       ...       ...       ...       ...\n",
            "447  0.397279  0.904737 -0.167162  0.115670 -0.581362\n",
            "448 -0.574505 -1.105294  0.640014  1.024508  0.720497\n",
            "449 -0.635242 -1.105294 -0.005727 -0.005508  1.241241\n",
            "450 -0.878188  0.904737 -0.301692 -0.793167  0.264846\n",
            "451  1.915691  0.904737 -0.167162  0.115670 -0.646455\n",
            "\n",
            "[451 rows x 5 columns]\n"
          ]
        }
      ],
      "source": [
        "## Chuẩn hóa bằng StandardScaler\n",
        "array = df_1.values\n",
        "scaler = StandardScaler()\n",
        "standard = scaler.fit_transform(array)\n",
        "standard_df = pd.DataFrame(standard, index=df.index)\n",
        "print(\"Chuẩn hóa dữ liệu bằng z-score:\\n\",standard_df)"
      ]
    },
    {
      "cell_type": "markdown",
      "metadata": {
        "id": "mlVQ3LvrA99c"
      },
      "source": [
        "## 2.5. Rời rạc hóa dữ liệu"
      ]
    },
    {
      "cell_type": "markdown",
      "metadata": {
        "id": "kINHTY69BATg"
      },
      "source": [
        "### 10 equi-width ranges"
      ]
    },
    {
      "cell_type": "code",
      "execution_count": 27,
      "metadata": {
        "colab": {
          "base_uri": "https://localhost:8080/"
        },
        "id": "hY4g-dbV50vc",
        "outputId": "424bb7ba-82b2-4ad5-9e60-f91c98342374"
      },
      "outputs": [
        {
          "name": "stdout",
          "output_type": "stream",
          "text": [
            "Rời rạc hóa dữ liệu bằng 10 equi-width ranges:\n",
            "             0         1         2         3         4 equi_width_column0\n",
            "0    1.733481 -1.105294  0.640014  0.721562  0.134660     (1.715, 2.219]\n",
            "1    0.579488  0.904737 -0.032633 -0.247865 -0.516269     (0.203, 0.707]\n",
            "2    0.458015 -1.105294  0.155708  1.630399  3.194030     (0.203, 0.707]\n",
            "3    0.518752 -1.105294  0.236426  1.569810  0.720497     (0.203, 0.707]\n",
            "4    1.733481 -1.105294  0.640014  0.721562 -0.060619     (1.715, 2.219]\n",
            "..        ...       ...       ...       ...       ...                ...\n",
            "447  0.397279  0.904737 -0.167162  0.115670 -0.581362     (0.203, 0.707]\n",
            "448 -0.574505 -1.105294  0.640014  1.024508  0.720497   (-0.805, -0.301]\n",
            "449 -0.635242 -1.105294 -0.005727 -0.005508  1.241241   (-0.805, -0.301]\n",
            "450 -0.878188  0.904737 -0.301692 -0.793167  0.264846   (-1.309, -0.805]\n",
            "451  1.915691  0.904737 -0.167162  0.115670 -0.646455     (1.715, 2.219]\n",
            "\n",
            "[451 rows x 6 columns]\n"
          ]
        }
      ],
      "source": [
        "df_2 = standard_df.copy()\n",
        "df_2['equi_width_column0'] = pd.cut(x=df_2[0], bins = 10)\n",
        "print('Rời rạc hóa dữ liệu bằng 10 equi-width ranges:\\n', df_2)"
      ]
    },
    {
      "cell_type": "markdown",
      "metadata": {
        "id": "1dGqhbIREi5k"
      },
      "source": [
        "###  10 equi-depth ranges"
      ]
    },
    {
      "cell_type": "code",
      "execution_count": 28,
      "metadata": {
        "colab": {
          "base_uri": "https://localhost:8080/"
        },
        "id": "FORGtcpkElva",
        "outputId": "2ba488c8-d051-40e0-c710-96d8da671ccd"
      },
      "outputs": [
        {
          "name": "stdout",
          "output_type": "stream",
          "text": [
            "Rời rạc hóa dữ liệu bằng 10 equi-depth ranges:\n",
            "             0         1         2         3         4 equi_depth_column0\n",
            "0    1.733481 -1.105294  0.640014  0.721562  0.134660     (1.248, 2.219]\n",
            "1    0.579488  0.904737 -0.032633 -0.247865 -0.516269     (0.276, 0.579]\n",
            "2    0.458015 -1.105294  0.155708  1.630399  3.194030     (0.276, 0.579]\n",
            "3    0.518752 -1.105294  0.236426  1.569810  0.720497     (0.276, 0.579]\n",
            "4    1.733481 -1.105294  0.640014  0.721562 -0.060619     (1.248, 2.219]\n",
            "..        ...       ...       ...       ...       ...                ...\n",
            "447  0.397279  0.904737 -0.167162  0.115670 -0.581362     (0.276, 0.579]\n",
            "448 -0.574505 -1.105294  0.640014  1.024508  0.720497   (-0.757, -0.575]\n",
            "449 -0.635242 -1.105294 -0.005727 -0.005508  1.241241   (-0.757, -0.575]\n",
            "450 -0.878188  0.904737 -0.301692 -0.793167  0.264846   (-1.243, -0.757]\n",
            "451  1.915691  0.904737 -0.167162  0.115670 -0.646455     (1.248, 2.219]\n",
            "\n",
            "[451 rows x 6 columns]\n"
          ]
        }
      ],
      "source": [
        "df_3 = standard_df.copy()\n",
        "df_3['equi_depth_column0'] = pd.qcut(df_3[0], q=10)\n",
        "print('Rời rạc hóa dữ liệu bằng 10 equi-depth ranges:\\n', df_3)"
      ]
    },
    {
      "cell_type": "markdown",
      "metadata": {
        "id": "4R2rgB64Et4a"
      },
      "source": [
        "### Cách khác: Dùng KBinsDiscretizer\n"
      ]
    },
    {
      "cell_type": "code",
      "execution_count": 29,
      "metadata": {
        "colab": {
          "base_uri": "https://localhost:8080/"
        },
        "id": "PdWavlt3EwJe",
        "outputId": "4d9dbd36-3d09-42db-d59f-0e289878aa0d"
      },
      "outputs": [
        {
          "name": "stdout",
          "output_type": "stream",
          "text": [
            "       0    1    2    3    4\n",
            "0    9.0  0.0  1.0  4.0  2.0\n",
            "1    6.0  9.0  0.0  3.0  1.0\n",
            "2    6.0  0.0  0.0  5.0  6.0\n",
            "3    6.0  0.0  1.0  5.0  3.0\n",
            "4    9.0  0.0  1.0  4.0  2.0\n",
            "..   ...  ...  ...  ...  ...\n",
            "446  6.0  9.0  0.0  3.0  1.0\n",
            "447  4.0  0.0  1.0  4.0  3.0\n",
            "448  4.0  0.0  0.0  3.0  3.0\n",
            "449  3.0  9.0  0.0  2.0  2.0\n",
            "450  9.0  9.0  0.0  3.0  1.0\n",
            "\n",
            "[451 rows x 5 columns]\n"
          ]
        }
      ],
      "source": [
        "kbins = KBinsDiscretizer(n_bins=10, encode=\"ordinal\", strategy = 'uniform')\n",
        "data_equi_width = kbins.fit_transform(standard)\n",
        "categorical_df = pd.DataFrame(data_equi_width)\n",
        "print(categorical_df)"
      ]
    },
    {
      "cell_type": "markdown",
      "metadata": {
        "id": "gifVAZBGIw9N"
      },
      "source": [
        "# III.PCA"
      ]
    },
    {
      "cell_type": "code",
      "execution_count": 30,
      "metadata": {
        "id": "9K9D7yOSKiTY"
      },
      "outputs": [],
      "source": [
        "# Import thư viện\n",
        "import pandas as pd # pandas\n",
        "import numpy as np # numpy\n",
        "import time\n",
        "import os\n",
        "import requests\n",
        "from sklearn import preprocessing"
      ]
    },
    {
      "cell_type": "markdown",
      "metadata": {
        "id": "W07aHcwhMUk-"
      },
      "source": [
        "## 3.1. Load Dataset"
      ]
    },
    {
      "cell_type": "code",
      "execution_count": 31,
      "metadata": {
        "colab": {
          "base_uri": "https://localhost:8080/"
        },
        "id": "FkxWIzdPLmF2",
        "outputId": "83e5c365-d431-4186-8d37-37ea49fbe928"
      },
      "outputs": [
        {
          "name": "stdout",
          "output_type": "stream",
          "text": [
            "     molecule_name conformation_name  f1   f2   f3   f4   f5   f6   f7   f8  \\\n",
            "0         MUSK-188           188_1+1  42 -198 -109  -75 -117   11   23  -88   \n",
            "1         MUSK-188           188_1+2  42 -191 -142  -65 -117   55   49 -170   \n",
            "2         MUSK-188           188_1+3  42 -191 -142  -75 -117   11   49 -161   \n",
            "3         MUSK-188           188_1+4  42 -198 -110  -65 -117   55   23  -95   \n",
            "4         MUSK-190           190_1+1  42 -198 -102  -75 -117   10   24  -87   \n",
            "..             ...               ...  ..  ...  ...  ...  ...  ...  ...  ...   \n",
            "471  NON-MUSK-jp13          jp13_1+4  49 -199 -161   29  -95  -86  -48    2   \n",
            "472  NON-MUSK-jp13          jp13_2+1  38 -123 -139   30 -117  -88  214  -13   \n",
            "473  NON-MUSK-jp13          jp13_2+2  43 -102  -20 -101 -116  200 -166   66   \n",
            "474  NON-MUSK-jp13          jp13_2+3  39  -58   27   31 -117  -92   85   21   \n",
            "475  NON-MUSK-jp13          jp13_2+4  52 -121  -24 -104 -116  195 -162   76   \n",
            "\n",
            "     ...  f158  f159  f160  f161  f162  f163  f164  f165  f166  class  \n",
            "0    ...   -74  -129  -120   -38    30    48   -37     6    30    1.0  \n",
            "1    ...  -302    60  -120   -39    31    48   -37     5    30    1.0  \n",
            "2    ...   -73  -127  -120   -38    30    48   -37     5    31    1.0  \n",
            "3    ...  -302    60  -120   -39    30    48   -37     6    30    1.0  \n",
            "4    ...   -73  -127    51   128   144    43   -30    14    26    1.0  \n",
            "..   ...   ...   ...   ...   ...   ...   ...   ...   ...   ...    ...  \n",
            "471  ...  -246  -209    33   152   134    47   -43   -15   -10    0.0  \n",
            "472  ...  -226  -210    20    55   119    79   -28     4    74    0.0  \n",
            "473  ...    32   136   -15   143   121    55   -37   -19   -36    0.0  \n",
            "474  ...  -232  -206    13    45   116    79   -28     3    74    0.0  \n",
            "475  ...    34   133   -20   -46    95    98   -14    12    96    0.0  \n",
            "\n",
            "[476 rows x 169 columns]\n"
          ]
        }
      ],
      "source": [
        "url = 'https://archive.ics.uci.edu/static/public/74/data.csv' # Đọc file csv musk\n",
        "df = pd.read_csv(url)\n",
        "print(df)"
      ]
    },
    {
      "cell_type": "markdown",
      "metadata": {
        "id": "w16ZkWKoMaSq"
      },
      "source": [
        "## 3.2. Xử lý các giá trị missing"
      ]
    },
    {
      "cell_type": "code",
      "execution_count": 32,
      "metadata": {
        "colab": {
          "base_uri": "https://localhost:8080/"
        },
        "id": "bzxvlCQmOm8C",
        "outputId": "dc82391c-abc7-4854-d4b5-cd83ab2dfe68"
      },
      "outputs": [
        {
          "name": "stdout",
          "output_type": "stream",
          "text": [
            "molecule_name        0\n",
            "conformation_name    0\n",
            "f1                   0\n",
            "f2                   0\n",
            "f3                   0\n",
            "                    ..\n",
            "f163                 0\n",
            "f164                 0\n",
            "f165                 0\n",
            "f166                 0\n",
            "class                0\n",
            "Length: 169, dtype: int64\n"
          ]
        }
      ],
      "source": [
        "# Null checking\n",
        "print(df.isnull().sum())\n",
        "df = df.dropna()"
      ]
    },
    {
      "cell_type": "markdown",
      "metadata": {
        "id": "G69mbsxzQdDL"
      },
      "source": [
        "## 3.3. Xử lý các giá trị duplicates"
      ]
    },
    {
      "cell_type": "code",
      "execution_count": 33,
      "metadata": {
        "colab": {
          "base_uri": "https://localhost:8080/"
        },
        "id": "0grttiAIP3Ig",
        "outputId": "b64aa947-0ef8-4348-82db-a16e572736e0"
      },
      "outputs": [
        {
          "data": {
            "text/plain": [
              "0"
            ]
          },
          "execution_count": 33,
          "metadata": {},
          "output_type": "execute_result"
        }
      ],
      "source": [
        "# Duplicate checking\n",
        "df.duplicated().sum()"
      ]
    },
    {
      "cell_type": "markdown",
      "metadata": {
        "id": "E5YfZjdoQip1"
      },
      "source": [
        "## 3.4. Chuẩn bị dữ liệu"
      ]
    },
    {
      "cell_type": "code",
      "execution_count": 34,
      "metadata": {
        "colab": {
          "base_uri": "https://localhost:8080/"
        },
        "id": "6v59uIK2P9AO",
        "outputId": "b6b4513f-8d1b-4943-bab7-0c8a169eed40"
      },
      "outputs": [
        {
          "name": "stdout",
          "output_type": "stream",
          "text": [
            "     f1   f2   f3   f4   f5   f6   f7   f8   f9  f10  ...  f158  f159  f160  \\\n",
            "0    42 -198 -109  -75 -117   11   23  -88  -28  -27  ...   -74  -129  -120   \n",
            "1    42 -191 -142  -65 -117   55   49 -170  -45    5  ...  -302    60  -120   \n",
            "2    42 -191 -142  -75 -117   11   49 -161  -45  -28  ...   -73  -127  -120   \n",
            "3    42 -198 -110  -65 -117   55   23  -95  -28    5  ...  -302    60  -120   \n",
            "4    42 -198 -102  -75 -117   10   24  -87  -28  -28  ...   -73  -127    51   \n",
            "..   ..  ...  ...  ...  ...  ...  ...  ...  ...  ...  ...   ...   ...   ...   \n",
            "471  49 -199 -161   29  -95  -86  -48    2  112  -79  ...  -246  -209    33   \n",
            "472  38 -123 -139   30 -117  -88  214  -13  -74 -129  ...  -226  -210    20   \n",
            "473  43 -102  -20 -101 -116  200 -166   66 -222  -49  ...    32   136   -15   \n",
            "474  39  -58   27   31 -117  -92   85   21  -73  -68  ...  -232  -206    13   \n",
            "475  52 -121  -24 -104 -116  195 -162   76 -226  -56  ...    34   133   -20   \n",
            "\n",
            "     f161  f162  f163  f164  f165  f166  class  \n",
            "0     -38    30    48   -37     6    30    1.0  \n",
            "1     -39    31    48   -37     5    30    1.0  \n",
            "2     -38    30    48   -37     5    31    1.0  \n",
            "3     -39    30    48   -37     6    30    1.0  \n",
            "4     128   144    43   -30    14    26    1.0  \n",
            "..    ...   ...   ...   ...   ...   ...    ...  \n",
            "471   152   134    47   -43   -15   -10    0.0  \n",
            "472    55   119    79   -28     4    74    0.0  \n",
            "473   143   121    55   -37   -19   -36    0.0  \n",
            "474    45   116    79   -28     3    74    0.0  \n",
            "475   -46    95    98   -14    12    96    0.0  \n",
            "\n",
            "[476 rows x 167 columns]\n"
          ]
        }
      ],
      "source": [
        "def prepare_data(df):\n",
        "  # Get the data types of each column\n",
        "  dtypes = df.dtypes\n",
        "\n",
        "  # Select the columns with dtype 'object'\n",
        "  object_cols = dtypes[dtypes == 'object'].index.tolist()\n",
        "\n",
        "  # Drop the selected columns\n",
        "  df_1 = df.drop(object_cols, axis=1)\n",
        "  return df_1\n",
        "\n",
        "df_1 = prepare_data(df)\n",
        "print(df_1)\n"
      ]
    },
    {
      "cell_type": "markdown",
      "metadata": {
        "id": "-lbxBLlqQqf3"
      },
      "source": [
        "## 3.5. Xử lý giá trị ngoại lai và Scaling dữ liệu"
      ]
    },
    {
      "cell_type": "markdown",
      "metadata": {
        "id": "tNWJDWQGP7Iw"
      },
      "source": [
        "Vì PCA hoạt động dựa trên phương sai của dữ liệu, do đó các giá trị ngoại lai có thể làm sai lệch kết quả phân tích và khiến cho các thành phần chính không còn đại diện cho dữ liệu một cách chính xác.\n",
        "\n",
        "Ta sẽ sử dụng các phương pháp chuẩn hóa dữ liệu RobustScaler: Phương pháp này giúp giảm thiểu ảnh hưởng của các giá trị ngoại lai đến kết quả phân tích.\n"
      ]
    },
    {
      "cell_type": "code",
      "execution_count": 35,
      "metadata": {
        "colab": {
          "base_uri": "https://localhost:8080/"
        },
        "id": "r67hIoGqO9MT",
        "outputId": "ad959ef2-c7b0-4bd5-bec5-97cc40193989"
      },
      "outputs": [
        {
          "name": "stdout",
          "output_type": "stream",
          "text": [
            "Xử lý outlier và scaling bằng RobustScaler:\n",
            "           0         1         2         3     4         5         6    \\\n",
            "0    0.000000 -0.581522 -0.008130 -1.131868   0.0  0.000000 -0.085714   \n",
            "1    0.000000 -0.505435 -0.276423 -1.021978   0.0  0.276295  0.038095   \n",
            "2    0.000000 -0.505435 -0.276423 -1.131868   0.0  0.000000  0.038095   \n",
            "3    0.000000 -0.581522 -0.016260 -1.021978   0.0  0.276295 -0.085714   \n",
            "4    0.000000 -0.581522  0.048780 -1.131868   0.0 -0.006279 -0.080952   \n",
            "..        ...       ...       ...       ...   ...       ...       ...   \n",
            "471  0.368421 -0.592391 -0.430894  0.010989  22.0 -0.609105 -0.423810   \n",
            "472 -0.210526  0.233696 -0.252033  0.021978   0.0 -0.621664  0.823810   \n",
            "473  0.052632  0.461957  0.715447 -1.417582   1.0  1.186813 -0.985714   \n",
            "474 -0.157895  0.940217  1.097561  0.032967   0.0 -0.646782  0.209524   \n",
            "475  0.526316  0.255435  0.682927 -1.450549   1.0  1.155416 -0.966667   \n",
            "\n",
            "          7         8         9    ...       157       158       159  \\\n",
            "0   -1.600000  0.070270  0.515235  ...  1.482838  0.254202 -0.929204   \n",
            "1   -2.837736 -0.021622  0.869806  ... -0.604119  1.048319 -0.929204   \n",
            "2   -2.701887 -0.021622  0.504155  ...  1.491991  0.262605 -0.929204   \n",
            "3   -1.705660  0.070270  0.869806  ... -0.604119  1.048319 -0.929204   \n",
            "4   -1.584906  0.070270  0.504155  ...  1.491991  0.262605  0.584071   \n",
            "..        ...       ...       ...  ...       ...       ...       ...   \n",
            "471 -0.241509  0.827027 -0.060942  ... -0.091533 -0.081933  0.424779   \n",
            "472 -0.467925 -0.178378 -0.614958  ...  0.091533 -0.086134  0.309735   \n",
            "473  0.724528 -0.978378  0.271468  ...  2.453089  1.367647  0.000000   \n",
            "474  0.045283 -0.172973  0.060942  ...  0.036613 -0.069328  0.247788   \n",
            "475  0.875472 -1.000000  0.193906  ...  2.471396  1.355042 -0.044248   \n",
            "\n",
            "          160       161       162       163       164       165  166  \n",
            "0   -0.415546 -0.627907 -0.466667 -0.070175  0.485714 -0.058140  1.0  \n",
            "1   -0.421525 -0.616279 -0.466667 -0.070175  0.457143 -0.058140  1.0  \n",
            "2   -0.415546 -0.627907 -0.466667 -0.070175  0.457143 -0.046512  1.0  \n",
            "3   -0.421525 -0.627907 -0.466667 -0.070175  0.485714 -0.058140  1.0  \n",
            "4    0.576981  0.697674 -0.577778  0.421053  0.714286 -0.104651  1.0  \n",
            "..        ...       ...       ...       ...       ...       ...  ...  \n",
            "471  0.720478  0.581395 -0.488889 -0.491228 -0.114286 -0.523256  0.0  \n",
            "472  0.140508  0.406977  0.222222  0.561404  0.428571  0.453488  0.0  \n",
            "473  0.666667  0.430233 -0.311111 -0.070175 -0.228571 -0.825581  0.0  \n",
            "474  0.080717  0.372093  0.222222  0.561404  0.400000  0.453488  0.0  \n",
            "475 -0.463378  0.127907  0.644444  1.543860  0.657143  0.709302  0.0  \n",
            "\n",
            "[476 rows x 167 columns]\n"
          ]
        }
      ],
      "source": [
        "# Xử lý giá trị ngoại lai\n",
        "array = df_1.values\n",
        "scaler = preprocessing.RobustScaler()\n",
        "robust_df = scaler.fit_transform(array)\n",
        "robust_df = pd.DataFrame(robust_df)\n",
        "print('Xử lý outlier và scaling bằng RobustScaler:\\n', robust_df)\n",
        "\n"
      ]
    },
    {
      "cell_type": "markdown",
      "metadata": {
        "id": "vb_EGvXmOwrj"
      },
      "source": [
        "Khi sử dụng mô hình PCA (Phân tích thành phần chính), việc rời rạc hóa dữ liệu không phải là bắt buộc, nhưng chuẩn hóa dữ liệu là cần thiết."
      ]
    },
    {
      "cell_type": "markdown",
      "metadata": {
        "id": "MzTOuGc-fDtN"
      },
      "source": [
        "## 3.6. PCA model"
      ]
    },
    {
      "cell_type": "code",
      "execution_count": 36,
      "metadata": {
        "colab": {
          "base_uri": "https://localhost:8080/"
        },
        "id": "Ofzwjd0-QK12",
        "outputId": "a32fca23-405d-4271-e1ee-dc23d6a6645d"
      },
      "outputs": [
        {
          "name": "stdout",
          "output_type": "stream",
          "text": [
            "eigenvalues: \n",
            " [3.53588599e-01 1.80042130e-01 1.75501426e-01 1.26149104e-01\n",
            " 1.08836101e-01 1.50582125e-02 1.20677760e-02 7.47054873e-03\n",
            " 3.86466010e-03 2.07089804e-03 1.94395847e-03 1.50921436e-03\n",
            " 1.41748212e-03 1.25317102e-03 8.48936148e-04 7.76295197e-04\n",
            " 7.12738665e-04 6.46208563e-04 6.16374945e-04 4.85369870e-04\n",
            " 4.65531125e-04 4.52545050e-04 4.23203837e-04 3.48920098e-04\n",
            " 2.99850984e-04 2.52318621e-04 2.34866191e-04 2.05265668e-04\n",
            " 1.89765645e-04 1.72130744e-04 1.46801396e-04 1.26400622e-04\n",
            " 1.07307788e-04 1.04087559e-04 1.00469159e-04 9.59882361e-05\n",
            " 9.12812782e-05 8.45485747e-05 8.09155274e-05 7.57809029e-05\n",
            " 6.85980447e-05 6.36400669e-05 5.47024540e-05 5.06624003e-05\n",
            " 4.98489616e-05 4.49527413e-05 4.19301427e-05 4.15815082e-05\n",
            " 3.66426767e-05 3.46457502e-05 3.15097394e-05 3.02771999e-05\n",
            " 2.92576953e-05 2.87380091e-05 2.71079143e-05 2.54711310e-05\n",
            " 2.31097431e-05 2.22104446e-05 2.05206805e-05 1.97473279e-05\n",
            " 1.86095362e-05 1.83481765e-05 1.68198037e-05 1.52033548e-05\n",
            " 1.47894606e-05 1.40369264e-05 1.29939405e-05 1.24075586e-05\n",
            " 1.18827887e-05 1.15259076e-05 9.81592592e-06 9.48416773e-06\n",
            " 9.15669154e-06 8.89809692e-06 8.19325983e-06 7.73467006e-06\n",
            " 7.34663717e-06 6.79758942e-06 6.70484003e-06 5.94462513e-06\n",
            " 5.72763160e-06 5.42207635e-06 4.88919532e-06 4.70567804e-06\n",
            " 4.55704456e-06 4.45960492e-06 4.14481914e-06 4.03691221e-06\n",
            " 3.89888808e-06 3.50099299e-06 3.45703380e-06 3.39000545e-06\n",
            " 3.17545406e-06 2.91195698e-06 2.81142993e-06 2.66456297e-06\n",
            " 2.62667086e-06 2.46891790e-06 2.36111524e-06 2.22219775e-06\n",
            " 2.07570766e-06 1.93197778e-06 1.77958089e-06 1.77058809e-06\n",
            " 1.66411274e-06 1.57467116e-06 1.47382191e-06 1.42956847e-06\n",
            " 1.34024357e-06 1.29250912e-06 1.24573761e-06 1.20931517e-06\n",
            " 1.17100702e-06 1.04043535e-06 1.02547356e-06 9.93405065e-07\n",
            " 9.30122678e-07 8.93089968e-07 8.53632930e-07 7.86845513e-07\n",
            " 7.36422381e-07 6.95947545e-07 6.22483102e-07 6.16187063e-07\n",
            " 5.66348318e-07 5.39475640e-07 5.25572321e-07 4.97007597e-07\n",
            " 4.25083214e-07 4.09946539e-07 4.01432193e-07 3.78540625e-07\n",
            " 3.62116912e-07 3.30079720e-07 3.26122442e-07 2.88562970e-07\n",
            " 2.74204163e-07 2.63538622e-07 2.49064739e-07 2.27868979e-07\n",
            " 2.03141133e-07 1.95860401e-07 1.80545763e-07 1.70080091e-07\n",
            " 1.60816625e-07 1.49254295e-07 1.34463592e-07 1.28768892e-07\n",
            " 1.20234505e-07 1.10251502e-07 1.01254947e-07 8.05417795e-08\n",
            " 7.32117459e-08 7.15264987e-08 6.99474897e-08 6.15800990e-08\n",
            " 5.65915796e-08 5.13451244e-08 4.51773797e-08 3.09327721e-08\n",
            " 2.81574754e-08 2.62037493e-08 1.90889804e-08 1.79067728e-08\n",
            " 1.40149929e-08 1.00295417e-08 6.89627901e-09]\n",
            "eigenvectors: \n",
            " [[ 3.63293469e-03  5.71647537e-03  1.45124431e-03 ...  2.64675373e-03\n",
            "   6.59605161e-03 -2.37871431e-03]\n",
            " [ 7.23017639e-03  3.77206909e-03  1.73410286e-03 ... -4.37080256e-04\n",
            "   1.24965312e-03 -7.33889506e-04]\n",
            " [ 3.70124054e-03 -4.03853667e-03 -2.22777134e-03 ...  2.18801768e-03\n",
            "  -1.19311945e-03  7.35877494e-06]\n",
            " ...\n",
            " [ 6.65172463e-04 -2.25060997e-02 -1.28658866e-02 ... -5.63228203e-03\n",
            "   1.67852823e-02  3.51672152e-03]\n",
            " [ 3.35591470e-04 -7.22912059e-03 -6.11643108e-03 ...  1.49978336e-03\n",
            "   1.50506429e-05 -2.06083416e-03]\n",
            " [-9.89885163e-04  1.76486769e-03  2.86987171e-03 ... -4.18089515e-05\n",
            "   2.05665989e-03 -1.24670990e-03]]\n"
          ]
        }
      ],
      "source": [
        "from sklearn.decomposition import PCA\n",
        "pca = PCA(random_state=42)\n",
        "pca = pca.fit(robust_df) # Chỉ tính toán và lưu trữ các thành phần chính (principal components) và giá trị riêng (eigenvalues) của tập dữ liệu.\n",
        "                              # Không biến đổi dữ liệu đầu vào.\n",
        "eigenvalues = pca.explained_variance_ratio_\n",
        "print('eigenvalues: \\n', eigenvalues)\n",
        "eigenvectors = pca.components_\n",
        "print('eigenvectors: \\n', eigenvectors)"
      ]
    }
  ],
  "metadata": {
    "colab": {
      "provenance": [],
      "toc_visible": true
    },
    "kernelspec": {
      "display_name": "Python 3",
      "name": "python3"
    },
    "language_info": {
      "name": "python"
    }
  },
  "nbformat": 4,
  "nbformat_minor": 0
}
